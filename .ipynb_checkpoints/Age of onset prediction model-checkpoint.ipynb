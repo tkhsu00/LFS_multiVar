{
 "cells": [
  {
   "cell_type": "code",
   "execution_count": 49,
   "metadata": {},
   "outputs": [],
   "source": [
    "import pandas as pd\n",
    "import seaborn as sns\n",
    "import matplotlib.pyplot as plt\n",
    "import numpy as np\n",
    "from sklearn import impute\n",
    "from sklearn.model_selection import train_test_split\n",
    "from sklearn.model_selection import KFold \n",
    "from sklearn.metrics import r2_score\n",
    "from sklearn.metrics import explained_variance_score\n",
    "from sklearn.ensemble import RandomForestRegressor\n",
    "\n",
    "%matplotlib inline"
   ]
  },
  {
   "cell_type": "code",
   "execution_count": 2,
   "metadata": {
    "scrolled": true
   },
   "outputs": [],
   "source": [
    "# Read LFS data (after cleaning)\n",
    "fn = \"LFS_cleaned.tsv\"\n",
    "df = pd.read_csv(fn,sep=\"\\t\")"
   ]
  },
  {
   "cell_type": "markdown",
   "metadata": {},
   "source": [
    "## Select Numeric Features"
   ]
  },
  {
   "cell_type": "markdown",
   "metadata": {},
   "source": [
    "Calculate the correlation of numeric features to \"Age_at_diagnosis\""
   ]
  },
  {
   "cell_type": "code",
   "execution_count": 3,
   "metadata": {
    "scrolled": true
   },
   "outputs": [
    {
     "data": {
      "text/plain": [
       "Family_ID                    0.004567\n",
       "Generations_analyzed         0.226798\n",
       "MUT_ID                      -0.006318\n",
       "hg18_Chr17_coordinates      -0.025699\n",
       "hg19_Chr17_coordinates      -0.025700\n",
       "hg38_Chr17_coordinates      -0.025701\n",
       "Codon_number                -0.061515\n",
       "REVEL                       -0.100563\n",
       "BayesDel                    -0.086488\n",
       "COSMIClink                   0.055529\n",
       "CLINVARlink                  0.060734\n",
       "cBioportalCount             -0.093932\n",
       "Individual_ID                0.000555\n",
       "Generation                  -0.311825\n",
       "Dead                         0.057207\n",
       "Unaffected                        NaN\n",
       "Age                          0.957766\n",
       "Tumor_ID                     0.000418\n",
       "Age_at_diagnosis             1.000000\n",
       "Ref_ID                       0.003699\n",
       "p53mut_ID                    0.005343\n",
       "Short_topo_combined_count   -0.059012\n",
       "Name: Age_at_diagnosis, dtype: float64"
      ]
     },
     "execution_count": 3,
     "metadata": {},
     "output_type": "execute_result"
    }
   ],
   "source": [
    "feature_corr = df.corr()['Age_at_diagnosis']\n",
    "feature_corr"
   ]
  },
  {
   "cell_type": "markdown",
   "metadata": {},
   "source": [
    "Select features with |correlation| > 0.01"
   ]
  },
  {
   "cell_type": "code",
   "execution_count": 4,
   "metadata": {
    "scrolled": false
   },
   "outputs": [
    {
     "data": {
      "text/plain": [
       "['Generations_analyzed',\n",
       " 'hg18_Chr17_coordinates',\n",
       " 'hg19_Chr17_coordinates',\n",
       " 'hg38_Chr17_coordinates',\n",
       " 'Codon_number',\n",
       " 'REVEL',\n",
       " 'BayesDel',\n",
       " 'COSMIClink',\n",
       " 'CLINVARlink',\n",
       " 'cBioportalCount',\n",
       " 'Generation',\n",
       " 'Dead',\n",
       " 'Age',\n",
       " 'Age_at_diagnosis',\n",
       " 'Short_topo_combined_count']"
      ]
     },
     "execution_count": 4,
     "metadata": {},
     "output_type": "execute_result"
    }
   ],
   "source": [
    "feature_with_high_corr = []\n",
    "\n",
    "for feature, corr in feature_corr.iteritems():\n",
    "    if abs(corr) > 0.01:\n",
    "        feature_with_high_corr.append(feature)\n",
    "\n",
    "feature_with_high_corr"
   ]
  },
  {
   "cell_type": "markdown",
   "metadata": {},
   "source": [
    "Feature selection based on machine learning "
   ]
  },
  {
   "cell_type": "code",
   "execution_count": 5,
   "metadata": {},
   "outputs": [],
   "source": [
    "feature_to_remove = ['Generations_analyzed',\n",
    "                     'hg18_Chr17_coordinates',\n",
    "                     'hg19_Chr17_coordinates',\n",
    "                     'hg38_Chr17_coordinates',\n",
    "                     'Codon_number',\n",
    "                     'COSMIClink',\n",
    "                     'CLINVARlink',\n",
    "                     'Generation',\n",
    "                     'Dead',\n",
    "                     'Age',\n",
    "                     'Age_at_diagnosis']"
   ]
  },
  {
   "cell_type": "code",
   "execution_count": 6,
   "metadata": {},
   "outputs": [
    {
     "data": {
      "text/plain": [
       "['REVEL', 'BayesDel', 'cBioportalCount', 'Short_topo_combined_count']"
      ]
     },
     "execution_count": 6,
     "metadata": {},
     "output_type": "execute_result"
    }
   ],
   "source": [
    "selected_numeric_features = [f for f in feature_with_high_corr if f not in feature_to_remove]\n",
    "selected_numeric_features"
   ]
  },
  {
   "cell_type": "markdown",
   "metadata": {},
   "source": [
    "## Process Categorical Features"
   ]
  },
  {
   "cell_type": "markdown",
   "metadata": {},
   "source": [
    "Categorical features that affect age of onset according to **\"Feature studies - assess categorical variables.ipynb\"**\n",
    "* Short_topo_combined\n",
    "* Residue_function\n",
    "* Population\n",
    "* Region\n",
    "* DNEclass\n",
    "* AGVGDClass\n",
    "* SIFTClass\n",
    "* Polyphen2"
   ]
  },
  {
   "cell_type": "code",
   "execution_count": 7,
   "metadata": {},
   "outputs": [],
   "source": [
    "category_features = ['Short_topo_combined',\n",
    "                     'Residue_function',  \n",
    "                     'Population',\n",
    "                     'Region',\n",
    "                     'DNEclass',\n",
    "                     'AGVGDClass',\n",
    "                     'SIFTClass',  \n",
    "                     'Polyphen2']"
   ]
  },
  {
   "cell_type": "markdown",
   "metadata": {},
   "source": [
    "### Short_topo_combined - One Hot Encoding\n",
    "* Keep common cancer types\n",
    "* Combine rare cancer types (n<50) to 'Others'\n",
    "* Apply One Hot Encoding"
   ]
  },
  {
   "cell_type": "code",
   "execution_count": 8,
   "metadata": {},
   "outputs": [
    {
     "data": {
      "text/plain": [
       "BREAST                            587\n",
       "BRAIN                             317\n",
       "SOFT TISSUES                      225\n",
       "ADRENAL GLAND                     205\n",
       "BONES (other)                     131\n",
       "STOMACH                            74\n",
       "HEMATOP. SYSTEM                    73\n",
       "LUNG                               72\n",
       "UNKNOWN SITE                       71\n",
       "COLON                              40\n",
       "PROSTATE                           34\n",
       "OVARY                              27\n",
       "LIVER                              26\n",
       "COLORECTUM, NOS                    26\n",
       "PANCREAS                           24\n",
       "UTERUS                             19\n",
       "SKIN                               19\n",
       "LYMPH NODES                        17\n",
       "BONES (limbs)                      17\n",
       "KIDNEY                             16\n",
       "TESTIS                             15\n",
       "ESOPHAGUS                          11\n",
       "NERVES                              9\n",
       "THYROID                             9\n",
       "CERVIX UTERI                        8\n",
       "OTHER SITES                         7\n",
       "PERITONEUM                          7\n",
       "BLADDER                             7\n",
       "CORPUS UTERI                        6\n",
       "LARYNX                              5\n",
       "                                 ... \n",
       "ADRENAL GLAND;BREAST                1\n",
       "BRAIN;BREAST                        1\n",
       "PAROTID GLAND                       1\n",
       "URETER                              1\n",
       "ESOPHAGUS;OROPHARYNX                1\n",
       "COLON;SKIN                          1\n",
       "BREAST;HEART/MED/PLEURA             1\n",
       "BONES (limbs);BREAST                1\n",
       "BREAST;SKIN                         1\n",
       "ENDOCRINE GLANDS, NOS               1\n",
       "BREAST;UTERUS                       1\n",
       "OVARY;SOFT TISSUES                  1\n",
       "BONES (limbs);LIVER                 1\n",
       "BREAST;HEMATOP. SYSTEM              1\n",
       "ADRENAL GLAND;HEART/MED/PLEURA      1\n",
       "NERVES;OVARY                        1\n",
       "GALLBLADDER                         1\n",
       "BREAST;STOMACH                      1\n",
       "COLON;SOFT TISSUES                  1\n",
       "ADRENAL GLAND;NERVES                1\n",
       "PLACENTA                            1\n",
       "BREAST;UNKNOWN SITE                 1\n",
       "BRAIN;STOMACH                       1\n",
       "OTHER DIGESTIVE ORG.                1\n",
       "OTHER MALE GEN. ORG.                1\n",
       "RECTUM;UNKNOWN SITE                 1\n",
       "KIDNEY;NERVES                       1\n",
       "TONGUE (other)                      1\n",
       "BONES (other);LUNG                  1\n",
       "HEMATOP. SYSTEM;LYMPH NODES         1\n",
       "Name: Short_topo_combined, Length: 87, dtype: int64"
      ]
     },
     "execution_count": 8,
     "metadata": {},
     "output_type": "execute_result"
    }
   ],
   "source": [
    "df['Short_topo_combined'].value_counts()"
   ]
  },
  {
   "cell_type": "code",
   "execution_count": 9,
   "metadata": {},
   "outputs": [
    {
     "data": {
      "text/plain": [
       "['BREAST',\n",
       " 'BRAIN',\n",
       " 'SOFT TISSUES',\n",
       " 'ADRENAL GLAND',\n",
       " 'BONES (other)',\n",
       " 'STOMACH',\n",
       " 'HEMATOP. SYSTEM',\n",
       " 'LUNG',\n",
       " 'UNKNOWN SITE']"
      ]
     },
     "execution_count": 9,
     "metadata": {},
     "output_type": "execute_result"
    }
   ],
   "source": [
    "# Get list of common cancers (n >= 50)\n",
    "common_tumors = [cancer for cancer, count in df['Short_topo_combined'].value_counts().iteritems() if count > 50]\n",
    "common_tumors"
   ]
  },
  {
   "cell_type": "code",
   "execution_count": 10,
   "metadata": {},
   "outputs": [],
   "source": [
    "# convert least common tumor sites to \"Others\"\n",
    "df['simplified_tumor'] = df.apply(lambda row: row['Short_topo_combined'] \n",
    "                                  if row['Short_topo_combined'] in common_tumors \n",
    "                                  else 'Others',axis=1)"
   ]
  },
  {
   "cell_type": "code",
   "execution_count": 11,
   "metadata": {
    "scrolled": true
   },
   "outputs": [
    {
     "data": {
      "text/html": [
       "<div>\n",
       "<style scoped>\n",
       "    .dataframe tbody tr th:only-of-type {\n",
       "        vertical-align: middle;\n",
       "    }\n",
       "\n",
       "    .dataframe tbody tr th {\n",
       "        vertical-align: top;\n",
       "    }\n",
       "\n",
       "    .dataframe thead th {\n",
       "        text-align: right;\n",
       "    }\n",
       "</style>\n",
       "<table border=\"1\" class=\"dataframe\">\n",
       "  <thead>\n",
       "    <tr style=\"text-align: right;\">\n",
       "      <th></th>\n",
       "      <th>Family_ID</th>\n",
       "      <th>Family_code</th>\n",
       "      <th>Country</th>\n",
       "      <th>Population</th>\n",
       "      <th>Region</th>\n",
       "      <th>Development</th>\n",
       "      <th>Class</th>\n",
       "      <th>Generations_analyzed</th>\n",
       "      <th>Germline_mutation</th>\n",
       "      <th>MUT_ID</th>\n",
       "      <th>...</th>\n",
       "      <th>simplified_tumor_ADRENAL GLAND</th>\n",
       "      <th>simplified_tumor_BONES (other)</th>\n",
       "      <th>simplified_tumor_BRAIN</th>\n",
       "      <th>simplified_tumor_BREAST</th>\n",
       "      <th>simplified_tumor_HEMATOP. SYSTEM</th>\n",
       "      <th>simplified_tumor_LUNG</th>\n",
       "      <th>simplified_tumor_Others</th>\n",
       "      <th>simplified_tumor_SOFT TISSUES</th>\n",
       "      <th>simplified_tumor_STOMACH</th>\n",
       "      <th>simplified_tumor_UNKNOWN SITE</th>\n",
       "    </tr>\n",
       "  </thead>\n",
       "  <tbody>\n",
       "    <tr>\n",
       "      <th>0</th>\n",
       "      <td>4</td>\n",
       "      <td>Bard94</td>\n",
       "      <td>USA</td>\n",
       "      <td>Northern America</td>\n",
       "      <td>Americas</td>\n",
       "      <td>More developed regions</td>\n",
       "      <td>LFL</td>\n",
       "      <td>2.0</td>\n",
       "      <td>TP53</td>\n",
       "      <td>3259</td>\n",
       "      <td>...</td>\n",
       "      <td>0</td>\n",
       "      <td>0</td>\n",
       "      <td>0</td>\n",
       "      <td>0</td>\n",
       "      <td>1</td>\n",
       "      <td>0</td>\n",
       "      <td>0</td>\n",
       "      <td>0</td>\n",
       "      <td>0</td>\n",
       "      <td>0</td>\n",
       "    </tr>\n",
       "    <tr>\n",
       "      <th>1</th>\n",
       "      <td>4</td>\n",
       "      <td>Bard94</td>\n",
       "      <td>USA</td>\n",
       "      <td>Northern America</td>\n",
       "      <td>Americas</td>\n",
       "      <td>More developed regions</td>\n",
       "      <td>LFL</td>\n",
       "      <td>2.0</td>\n",
       "      <td>TP53</td>\n",
       "      <td>3259</td>\n",
       "      <td>...</td>\n",
       "      <td>0</td>\n",
       "      <td>0</td>\n",
       "      <td>0</td>\n",
       "      <td>0</td>\n",
       "      <td>0</td>\n",
       "      <td>0</td>\n",
       "      <td>1</td>\n",
       "      <td>0</td>\n",
       "      <td>0</td>\n",
       "      <td>0</td>\n",
       "    </tr>\n",
       "    <tr>\n",
       "      <th>2</th>\n",
       "      <td>4</td>\n",
       "      <td>Bard94</td>\n",
       "      <td>USA</td>\n",
       "      <td>Northern America</td>\n",
       "      <td>Americas</td>\n",
       "      <td>More developed regions</td>\n",
       "      <td>LFL</td>\n",
       "      <td>2.0</td>\n",
       "      <td>TP53</td>\n",
       "      <td>3259</td>\n",
       "      <td>...</td>\n",
       "      <td>1</td>\n",
       "      <td>0</td>\n",
       "      <td>0</td>\n",
       "      <td>0</td>\n",
       "      <td>0</td>\n",
       "      <td>0</td>\n",
       "      <td>0</td>\n",
       "      <td>0</td>\n",
       "      <td>0</td>\n",
       "      <td>0</td>\n",
       "    </tr>\n",
       "    <tr>\n",
       "      <th>3</th>\n",
       "      <td>5</td>\n",
       "      <td>Bir16</td>\n",
       "      <td>UK</td>\n",
       "      <td>Northern Europe</td>\n",
       "      <td>Europe</td>\n",
       "      <td>More developed regions</td>\n",
       "      <td>LFS</td>\n",
       "      <td>2.0</td>\n",
       "      <td>TP53</td>\n",
       "      <td>2821</td>\n",
       "      <td>...</td>\n",
       "      <td>0</td>\n",
       "      <td>0</td>\n",
       "      <td>0</td>\n",
       "      <td>1</td>\n",
       "      <td>0</td>\n",
       "      <td>0</td>\n",
       "      <td>0</td>\n",
       "      <td>0</td>\n",
       "      <td>0</td>\n",
       "      <td>0</td>\n",
       "    </tr>\n",
       "    <tr>\n",
       "      <th>4</th>\n",
       "      <td>5</td>\n",
       "      <td>Bir16</td>\n",
       "      <td>UK</td>\n",
       "      <td>Northern Europe</td>\n",
       "      <td>Europe</td>\n",
       "      <td>More developed regions</td>\n",
       "      <td>LFS</td>\n",
       "      <td>2.0</td>\n",
       "      <td>TP53</td>\n",
       "      <td>2821</td>\n",
       "      <td>...</td>\n",
       "      <td>1</td>\n",
       "      <td>0</td>\n",
       "      <td>0</td>\n",
       "      <td>0</td>\n",
       "      <td>0</td>\n",
       "      <td>0</td>\n",
       "      <td>0</td>\n",
       "      <td>0</td>\n",
       "      <td>0</td>\n",
       "      <td>0</td>\n",
       "    </tr>\n",
       "  </tbody>\n",
       "</table>\n",
       "<p>5 rows × 76 columns</p>\n",
       "</div>"
      ],
      "text/plain": [
       "   Family_ID Family_code Country        Population    Region  \\\n",
       "0          4      Bard94     USA  Northern America  Americas   \n",
       "1          4      Bard94     USA  Northern America  Americas   \n",
       "2          4      Bard94     USA  Northern America  Americas   \n",
       "3          5       Bir16      UK   Northern Europe    Europe   \n",
       "4          5       Bir16      UK   Northern Europe    Europe   \n",
       "\n",
       "              Development Class  Generations_analyzed Germline_mutation  \\\n",
       "0  More developed regions   LFL                   2.0              TP53   \n",
       "1  More developed regions   LFL                   2.0              TP53   \n",
       "2  More developed regions   LFL                   2.0              TP53   \n",
       "3  More developed regions   LFS                   2.0              TP53   \n",
       "4  More developed regions   LFS                   2.0              TP53   \n",
       "\n",
       "   MUT_ID  ...  simplified_tumor_ADRENAL GLAND  \\\n",
       "0    3259  ...                               0   \n",
       "1    3259  ...                               0   \n",
       "2    3259  ...                               1   \n",
       "3    2821  ...                               0   \n",
       "4    2821  ...                               1   \n",
       "\n",
       "   simplified_tumor_BONES (other)  simplified_tumor_BRAIN  \\\n",
       "0                               0                       0   \n",
       "1                               0                       0   \n",
       "2                               0                       0   \n",
       "3                               0                       0   \n",
       "4                               0                       0   \n",
       "\n",
       "  simplified_tumor_BREAST  simplified_tumor_HEMATOP. SYSTEM  \\\n",
       "0                       0                                 1   \n",
       "1                       0                                 0   \n",
       "2                       0                                 0   \n",
       "3                       1                                 0   \n",
       "4                       0                                 0   \n",
       "\n",
       "  simplified_tumor_LUNG simplified_tumor_Others simplified_tumor_SOFT TISSUES  \\\n",
       "0                     0                       0                             0   \n",
       "1                     0                       1                             0   \n",
       "2                     0                       0                             0   \n",
       "3                     0                       0                             0   \n",
       "4                     0                       0                             0   \n",
       "\n",
       "  simplified_tumor_STOMACH simplified_tumor_UNKNOWN SITE  \n",
       "0                        0                             0  \n",
       "1                        0                             0  \n",
       "2                        0                             0  \n",
       "3                        0                             0  \n",
       "4                        0                             0  \n",
       "\n",
       "[5 rows x 76 columns]"
      ]
     },
     "execution_count": 11,
     "metadata": {},
     "output_type": "execute_result"
    }
   ],
   "source": [
    "# One Hot Encoding\n",
    "df_cancer_onehot = pd.get_dummies(df, columns=[\"simplified_tumor\"])\n",
    "df_cancer_onehot.head()"
   ]
  },
  {
   "cell_type": "code",
   "execution_count": 12,
   "metadata": {},
   "outputs": [
    {
     "data": {
      "text/plain": [
       "['simplified_tumor_ADRENAL GLAND',\n",
       " 'simplified_tumor_BONES (other)',\n",
       " 'simplified_tumor_BRAIN',\n",
       " 'simplified_tumor_BREAST',\n",
       " 'simplified_tumor_HEMATOP. SYSTEM',\n",
       " 'simplified_tumor_LUNG',\n",
       " 'simplified_tumor_Others',\n",
       " 'simplified_tumor_SOFT TISSUES',\n",
       " 'simplified_tumor_STOMACH',\n",
       " 'simplified_tumor_UNKNOWN SITE']"
      ]
     },
     "execution_count": 12,
     "metadata": {},
     "output_type": "execute_result"
    }
   ],
   "source": [
    "onehot_feature = [col for col in df_cancer_onehot.columns.tolist() if col.startswith('simplified_tumor_')]\n",
    "onehot_feature"
   ]
  },
  {
   "cell_type": "markdown",
   "metadata": {},
   "source": [
    "### Other categorical features\n",
    "* Translated to valid numbers based on the ranking of average 'Age_at_diagnosis' "
   ]
  },
  {
   "cell_type": "code",
   "execution_count": 13,
   "metadata": {},
   "outputs": [],
   "source": [
    "# get other categorical features\n",
    "category_features.remove('Short_topo_combined')"
   ]
  },
  {
   "cell_type": "code",
   "execution_count": 14,
   "metadata": {},
   "outputs": [
    {
     "data": {
      "text/plain": [
       "{'Residue_function': {'Ubiquitination site': 1,\n",
       "  'Acetylation/Ubiquitination site': 2,\n",
       "  'S-glutathionylation site': 3,\n",
       "  'DNA binding': 4,\n",
       "  'Tetramerisation/Methylation site': 5,\n",
       "  'Zn binding': 6,\n",
       "  'Buried': 7,\n",
       "  'Partially exposed': 8,\n",
       "  'Phosphorylation site': 9,\n",
       "  'ADP-ribosylation': 10,\n",
       "  'Exposed': 11,\n",
       "  'Tetramerisation': 12,\n",
       "  'Methylation site': 13,\n",
       "  'Acetylation site': 14,\n",
       "  'Acetylation/Methylation/Ubiquitination site': 15},\n",
       " 'Population': {'Micronesia': 1,\n",
       "  'More developed regions,NOS': 2,\n",
       "  'Northern America': 3,\n",
       "  'South America': 4,\n",
       "  'Eastern Europe': 5,\n",
       "  'South Eastern Asia': 6,\n",
       "  'Eastern Asia': 7,\n",
       "  'Northern Europe': 8,\n",
       "  'Western Europe': 9,\n",
       "  'Southern Europe': 10,\n",
       "  'South Central Asia': 11,\n",
       "  'Europe, NOS': 12,\n",
       "  'Australia/New Zealand': 13,\n",
       "  'Northern Africa': 14,\n",
       "  'Western Asia': 15,\n",
       "  'Central America': 16},\n",
       " 'Region': {'More developed regions,NOS': 1,\n",
       "  'Americas': 2,\n",
       "  'Europe': 3,\n",
       "  'Asia': 4,\n",
       "  'Western Pacific': 5,\n",
       "  'Africa': 6},\n",
       " 'DNEclass': {'Yes': 1, 'Moderate': 2, 'No': 3},\n",
       " 'AGVGDClass': {'C25': 1,\n",
       "  'C65': 2,\n",
       "  'C55': 3,\n",
       "  'C0': 4,\n",
       "  'C35': 5,\n",
       "  'C45': 6,\n",
       "  'C15': 7},\n",
       " 'SIFTClass': {'Damaging': 1, 'Tolerated': 2},\n",
       " 'Polyphen2': {'D': 1, 'P': 2, 'B': 3}}"
      ]
     },
     "execution_count": 14,
     "metadata": {},
     "output_type": "execute_result"
    }
   ],
   "source": [
    "dict_feature_ranks = {}\n",
    "\n",
    "for category_feature in category_features:\n",
    "    df_age_mean = df.groupby(category_feature).agg({'Age_at_diagnosis':'mean'})\n",
    "    feature_ordered = df_age_mean.sort_values(by='Age_at_diagnosis').index.to_list()\n",
    "    dict_feature_ranks[category_feature] = dict(zip(feature_ordered,list(range(1, len(feature_ordered)+1))))\n",
    "\n",
    "dict_feature_ranks"
   ]
  },
  {
   "cell_type": "code",
   "execution_count": 15,
   "metadata": {
    "scrolled": true
   },
   "outputs": [
    {
     "data": {
      "text/html": [
       "<div>\n",
       "<style scoped>\n",
       "    .dataframe tbody tr th:only-of-type {\n",
       "        vertical-align: middle;\n",
       "    }\n",
       "\n",
       "    .dataframe tbody tr th {\n",
       "        vertical-align: top;\n",
       "    }\n",
       "\n",
       "    .dataframe thead th {\n",
       "        text-align: right;\n",
       "    }\n",
       "</style>\n",
       "<table border=\"1\" class=\"dataframe\">\n",
       "  <thead>\n",
       "    <tr style=\"text-align: right;\">\n",
       "      <th></th>\n",
       "      <th>Family_ID</th>\n",
       "      <th>Family_code</th>\n",
       "      <th>Country</th>\n",
       "      <th>Population</th>\n",
       "      <th>Region</th>\n",
       "      <th>Development</th>\n",
       "      <th>Class</th>\n",
       "      <th>Generations_analyzed</th>\n",
       "      <th>Germline_mutation</th>\n",
       "      <th>MUT_ID</th>\n",
       "      <th>...</th>\n",
       "      <th>simplified_tumor_ADRENAL GLAND</th>\n",
       "      <th>simplified_tumor_BONES (other)</th>\n",
       "      <th>simplified_tumor_BRAIN</th>\n",
       "      <th>simplified_tumor_BREAST</th>\n",
       "      <th>simplified_tumor_HEMATOP. SYSTEM</th>\n",
       "      <th>simplified_tumor_LUNG</th>\n",
       "      <th>simplified_tumor_Others</th>\n",
       "      <th>simplified_tumor_SOFT TISSUES</th>\n",
       "      <th>simplified_tumor_STOMACH</th>\n",
       "      <th>simplified_tumor_UNKNOWN SITE</th>\n",
       "    </tr>\n",
       "  </thead>\n",
       "  <tbody>\n",
       "    <tr>\n",
       "      <th>0</th>\n",
       "      <td>4</td>\n",
       "      <td>Bard94</td>\n",
       "      <td>USA</td>\n",
       "      <td>3.0</td>\n",
       "      <td>2.0</td>\n",
       "      <td>More developed regions</td>\n",
       "      <td>LFL</td>\n",
       "      <td>2.0</td>\n",
       "      <td>TP53</td>\n",
       "      <td>3259</td>\n",
       "      <td>...</td>\n",
       "      <td>0</td>\n",
       "      <td>0</td>\n",
       "      <td>0</td>\n",
       "      <td>0</td>\n",
       "      <td>1</td>\n",
       "      <td>0</td>\n",
       "      <td>0</td>\n",
       "      <td>0</td>\n",
       "      <td>0</td>\n",
       "      <td>0</td>\n",
       "    </tr>\n",
       "    <tr>\n",
       "      <th>1</th>\n",
       "      <td>4</td>\n",
       "      <td>Bard94</td>\n",
       "      <td>USA</td>\n",
       "      <td>3.0</td>\n",
       "      <td>2.0</td>\n",
       "      <td>More developed regions</td>\n",
       "      <td>LFL</td>\n",
       "      <td>2.0</td>\n",
       "      <td>TP53</td>\n",
       "      <td>3259</td>\n",
       "      <td>...</td>\n",
       "      <td>0</td>\n",
       "      <td>0</td>\n",
       "      <td>0</td>\n",
       "      <td>0</td>\n",
       "      <td>0</td>\n",
       "      <td>0</td>\n",
       "      <td>1</td>\n",
       "      <td>0</td>\n",
       "      <td>0</td>\n",
       "      <td>0</td>\n",
       "    </tr>\n",
       "    <tr>\n",
       "      <th>2</th>\n",
       "      <td>4</td>\n",
       "      <td>Bard94</td>\n",
       "      <td>USA</td>\n",
       "      <td>3.0</td>\n",
       "      <td>2.0</td>\n",
       "      <td>More developed regions</td>\n",
       "      <td>LFL</td>\n",
       "      <td>2.0</td>\n",
       "      <td>TP53</td>\n",
       "      <td>3259</td>\n",
       "      <td>...</td>\n",
       "      <td>1</td>\n",
       "      <td>0</td>\n",
       "      <td>0</td>\n",
       "      <td>0</td>\n",
       "      <td>0</td>\n",
       "      <td>0</td>\n",
       "      <td>0</td>\n",
       "      <td>0</td>\n",
       "      <td>0</td>\n",
       "      <td>0</td>\n",
       "    </tr>\n",
       "    <tr>\n",
       "      <th>3</th>\n",
       "      <td>5</td>\n",
       "      <td>Bir16</td>\n",
       "      <td>UK</td>\n",
       "      <td>8.0</td>\n",
       "      <td>3.0</td>\n",
       "      <td>More developed regions</td>\n",
       "      <td>LFS</td>\n",
       "      <td>2.0</td>\n",
       "      <td>TP53</td>\n",
       "      <td>2821</td>\n",
       "      <td>...</td>\n",
       "      <td>0</td>\n",
       "      <td>0</td>\n",
       "      <td>0</td>\n",
       "      <td>1</td>\n",
       "      <td>0</td>\n",
       "      <td>0</td>\n",
       "      <td>0</td>\n",
       "      <td>0</td>\n",
       "      <td>0</td>\n",
       "      <td>0</td>\n",
       "    </tr>\n",
       "    <tr>\n",
       "      <th>4</th>\n",
       "      <td>5</td>\n",
       "      <td>Bir16</td>\n",
       "      <td>UK</td>\n",
       "      <td>8.0</td>\n",
       "      <td>3.0</td>\n",
       "      <td>More developed regions</td>\n",
       "      <td>LFS</td>\n",
       "      <td>2.0</td>\n",
       "      <td>TP53</td>\n",
       "      <td>2821</td>\n",
       "      <td>...</td>\n",
       "      <td>1</td>\n",
       "      <td>0</td>\n",
       "      <td>0</td>\n",
       "      <td>0</td>\n",
       "      <td>0</td>\n",
       "      <td>0</td>\n",
       "      <td>0</td>\n",
       "      <td>0</td>\n",
       "      <td>0</td>\n",
       "      <td>0</td>\n",
       "    </tr>\n",
       "  </tbody>\n",
       "</table>\n",
       "<p>5 rows × 76 columns</p>\n",
       "</div>"
      ],
      "text/plain": [
       "   Family_ID Family_code Country  Population  Region             Development  \\\n",
       "0          4      Bard94     USA         3.0     2.0  More developed regions   \n",
       "1          4      Bard94     USA         3.0     2.0  More developed regions   \n",
       "2          4      Bard94     USA         3.0     2.0  More developed regions   \n",
       "3          5       Bir16      UK         8.0     3.0  More developed regions   \n",
       "4          5       Bir16      UK         8.0     3.0  More developed regions   \n",
       "\n",
       "  Class  Generations_analyzed Germline_mutation  MUT_ID  ...  \\\n",
       "0   LFL                   2.0              TP53    3259  ...   \n",
       "1   LFL                   2.0              TP53    3259  ...   \n",
       "2   LFL                   2.0              TP53    3259  ...   \n",
       "3   LFS                   2.0              TP53    2821  ...   \n",
       "4   LFS                   2.0              TP53    2821  ...   \n",
       "\n",
       "   simplified_tumor_ADRENAL GLAND  simplified_tumor_BONES (other)  \\\n",
       "0                               0                               0   \n",
       "1                               0                               0   \n",
       "2                               1                               0   \n",
       "3                               0                               0   \n",
       "4                               1                               0   \n",
       "\n",
       "   simplified_tumor_BRAIN simplified_tumor_BREAST  \\\n",
       "0                       0                       0   \n",
       "1                       0                       0   \n",
       "2                       0                       0   \n",
       "3                       0                       1   \n",
       "4                       0                       0   \n",
       "\n",
       "   simplified_tumor_HEMATOP. SYSTEM simplified_tumor_LUNG  \\\n",
       "0                                 1                     0   \n",
       "1                                 0                     0   \n",
       "2                                 0                     0   \n",
       "3                                 0                     0   \n",
       "4                                 0                     0   \n",
       "\n",
       "  simplified_tumor_Others simplified_tumor_SOFT TISSUES  \\\n",
       "0                       0                             0   \n",
       "1                       1                             0   \n",
       "2                       0                             0   \n",
       "3                       0                             0   \n",
       "4                       0                             0   \n",
       "\n",
       "  simplified_tumor_STOMACH simplified_tumor_UNKNOWN SITE  \n",
       "0                        0                             0  \n",
       "1                        0                             0  \n",
       "2                        0                             0  \n",
       "3                        0                             0  \n",
       "4                        0                             0  \n",
       "\n",
       "[5 rows x 76 columns]"
      ]
     },
     "execution_count": 15,
     "metadata": {},
     "output_type": "execute_result"
    }
   ],
   "source": [
    "df_cancer_onehot.replace(dict_feature_ranks, inplace=True)\n",
    "df_cancer_onehot.head()"
   ]
  },
  {
   "cell_type": "markdown",
   "metadata": {},
   "source": [
    "## Extract the selected features and create a new dataframe"
   ]
  },
  {
   "cell_type": "code",
   "execution_count": 16,
   "metadata": {},
   "outputs": [],
   "source": [
    "feature_to_use = selected_numeric_features+category_features+onehot_feature"
   ]
  },
  {
   "cell_type": "code",
   "execution_count": 17,
   "metadata": {},
   "outputs": [],
   "source": [
    "df_sel_features = df_cancer_onehot[feature_to_use]"
   ]
  },
  {
   "cell_type": "code",
   "execution_count": 18,
   "metadata": {
    "scrolled": true
   },
   "outputs": [
    {
     "data": {
      "text/html": [
       "<div>\n",
       "<style scoped>\n",
       "    .dataframe tbody tr th:only-of-type {\n",
       "        vertical-align: middle;\n",
       "    }\n",
       "\n",
       "    .dataframe tbody tr th {\n",
       "        vertical-align: top;\n",
       "    }\n",
       "\n",
       "    .dataframe thead th {\n",
       "        text-align: right;\n",
       "    }\n",
       "</style>\n",
       "<table border=\"1\" class=\"dataframe\">\n",
       "  <thead>\n",
       "    <tr style=\"text-align: right;\">\n",
       "      <th></th>\n",
       "      <th>REVEL</th>\n",
       "      <th>BayesDel</th>\n",
       "      <th>cBioportalCount</th>\n",
       "      <th>Short_topo_combined_count</th>\n",
       "      <th>Residue_function</th>\n",
       "      <th>Population</th>\n",
       "      <th>Region</th>\n",
       "      <th>DNEclass</th>\n",
       "      <th>AGVGDClass</th>\n",
       "      <th>SIFTClass</th>\n",
       "      <th>...</th>\n",
       "      <th>simplified_tumor_ADRENAL GLAND</th>\n",
       "      <th>simplified_tumor_BONES (other)</th>\n",
       "      <th>simplified_tumor_BRAIN</th>\n",
       "      <th>simplified_tumor_BREAST</th>\n",
       "      <th>simplified_tumor_HEMATOP. SYSTEM</th>\n",
       "      <th>simplified_tumor_LUNG</th>\n",
       "      <th>simplified_tumor_Others</th>\n",
       "      <th>simplified_tumor_SOFT TISSUES</th>\n",
       "      <th>simplified_tumor_STOMACH</th>\n",
       "      <th>simplified_tumor_UNKNOWN SITE</th>\n",
       "    </tr>\n",
       "  </thead>\n",
       "  <tbody>\n",
       "    <tr>\n",
       "      <th>0</th>\n",
       "      <td>0.924</td>\n",
       "      <td>0.3710</td>\n",
       "      <td>23</td>\n",
       "      <td>1</td>\n",
       "      <td>7.0</td>\n",
       "      <td>3.0</td>\n",
       "      <td>2.0</td>\n",
       "      <td>1.0</td>\n",
       "      <td>7.0</td>\n",
       "      <td>1.0</td>\n",
       "      <td>...</td>\n",
       "      <td>0</td>\n",
       "      <td>0</td>\n",
       "      <td>0</td>\n",
       "      <td>0</td>\n",
       "      <td>1</td>\n",
       "      <td>0</td>\n",
       "      <td>0</td>\n",
       "      <td>0</td>\n",
       "      <td>0</td>\n",
       "      <td>0</td>\n",
       "    </tr>\n",
       "    <tr>\n",
       "      <th>1</th>\n",
       "      <td>0.924</td>\n",
       "      <td>0.3710</td>\n",
       "      <td>23</td>\n",
       "      <td>1</td>\n",
       "      <td>7.0</td>\n",
       "      <td>3.0</td>\n",
       "      <td>2.0</td>\n",
       "      <td>1.0</td>\n",
       "      <td>7.0</td>\n",
       "      <td>1.0</td>\n",
       "      <td>...</td>\n",
       "      <td>0</td>\n",
       "      <td>0</td>\n",
       "      <td>0</td>\n",
       "      <td>0</td>\n",
       "      <td>0</td>\n",
       "      <td>0</td>\n",
       "      <td>1</td>\n",
       "      <td>0</td>\n",
       "      <td>0</td>\n",
       "      <td>0</td>\n",
       "    </tr>\n",
       "    <tr>\n",
       "      <th>2</th>\n",
       "      <td>0.924</td>\n",
       "      <td>0.3710</td>\n",
       "      <td>23</td>\n",
       "      <td>1</td>\n",
       "      <td>7.0</td>\n",
       "      <td>3.0</td>\n",
       "      <td>2.0</td>\n",
       "      <td>1.0</td>\n",
       "      <td>7.0</td>\n",
       "      <td>1.0</td>\n",
       "      <td>...</td>\n",
       "      <td>1</td>\n",
       "      <td>0</td>\n",
       "      <td>0</td>\n",
       "      <td>0</td>\n",
       "      <td>0</td>\n",
       "      <td>0</td>\n",
       "      <td>0</td>\n",
       "      <td>0</td>\n",
       "      <td>0</td>\n",
       "      <td>0</td>\n",
       "    </tr>\n",
       "    <tr>\n",
       "      <th>3</th>\n",
       "      <td>0.936</td>\n",
       "      <td>0.5625</td>\n",
       "      <td>182</td>\n",
       "      <td>1</td>\n",
       "      <td>7.0</td>\n",
       "      <td>8.0</td>\n",
       "      <td>3.0</td>\n",
       "      <td>2.0</td>\n",
       "      <td>2.0</td>\n",
       "      <td>1.0</td>\n",
       "      <td>...</td>\n",
       "      <td>0</td>\n",
       "      <td>0</td>\n",
       "      <td>0</td>\n",
       "      <td>1</td>\n",
       "      <td>0</td>\n",
       "      <td>0</td>\n",
       "      <td>0</td>\n",
       "      <td>0</td>\n",
       "      <td>0</td>\n",
       "      <td>0</td>\n",
       "    </tr>\n",
       "    <tr>\n",
       "      <th>4</th>\n",
       "      <td>0.936</td>\n",
       "      <td>0.5625</td>\n",
       "      <td>182</td>\n",
       "      <td>1</td>\n",
       "      <td>7.0</td>\n",
       "      <td>8.0</td>\n",
       "      <td>3.0</td>\n",
       "      <td>2.0</td>\n",
       "      <td>2.0</td>\n",
       "      <td>1.0</td>\n",
       "      <td>...</td>\n",
       "      <td>1</td>\n",
       "      <td>0</td>\n",
       "      <td>0</td>\n",
       "      <td>0</td>\n",
       "      <td>0</td>\n",
       "      <td>0</td>\n",
       "      <td>0</td>\n",
       "      <td>0</td>\n",
       "      <td>0</td>\n",
       "      <td>0</td>\n",
       "    </tr>\n",
       "  </tbody>\n",
       "</table>\n",
       "<p>5 rows × 21 columns</p>\n",
       "</div>"
      ],
      "text/plain": [
       "   REVEL  BayesDel  cBioportalCount  Short_topo_combined_count  \\\n",
       "0  0.924    0.3710               23                          1   \n",
       "1  0.924    0.3710               23                          1   \n",
       "2  0.924    0.3710               23                          1   \n",
       "3  0.936    0.5625              182                          1   \n",
       "4  0.936    0.5625              182                          1   \n",
       "\n",
       "   Residue_function  Population  Region  DNEclass  AGVGDClass  SIFTClass  ...  \\\n",
       "0               7.0         3.0     2.0       1.0         7.0        1.0  ...   \n",
       "1               7.0         3.0     2.0       1.0         7.0        1.0  ...   \n",
       "2               7.0         3.0     2.0       1.0         7.0        1.0  ...   \n",
       "3               7.0         8.0     3.0       2.0         2.0        1.0  ...   \n",
       "4               7.0         8.0     3.0       2.0         2.0        1.0  ...   \n",
       "\n",
       "   simplified_tumor_ADRENAL GLAND  simplified_tumor_BONES (other)  \\\n",
       "0                               0                               0   \n",
       "1                               0                               0   \n",
       "2                               1                               0   \n",
       "3                               0                               0   \n",
       "4                               1                               0   \n",
       "\n",
       "   simplified_tumor_BRAIN  simplified_tumor_BREAST  \\\n",
       "0                       0                        0   \n",
       "1                       0                        0   \n",
       "2                       0                        0   \n",
       "3                       0                        1   \n",
       "4                       0                        0   \n",
       "\n",
       "   simplified_tumor_HEMATOP. SYSTEM  simplified_tumor_LUNG  \\\n",
       "0                                 1                      0   \n",
       "1                                 0                      0   \n",
       "2                                 0                      0   \n",
       "3                                 0                      0   \n",
       "4                                 0                      0   \n",
       "\n",
       "   simplified_tumor_Others  simplified_tumor_SOFT TISSUES  \\\n",
       "0                        0                              0   \n",
       "1                        1                              0   \n",
       "2                        0                              0   \n",
       "3                        0                              0   \n",
       "4                        0                              0   \n",
       "\n",
       "   simplified_tumor_STOMACH  simplified_tumor_UNKNOWN SITE  \n",
       "0                         0                              0  \n",
       "1                         0                              0  \n",
       "2                         0                              0  \n",
       "3                         0                              0  \n",
       "4                         0                              0  \n",
       "\n",
       "[5 rows x 21 columns]"
      ]
     },
     "execution_count": 18,
     "metadata": {},
     "output_type": "execute_result"
    }
   ],
   "source": [
    "df_sel_features.head()"
   ]
  },
  {
   "cell_type": "code",
   "execution_count": 19,
   "metadata": {},
   "outputs": [],
   "source": [
    "X = df_sel_features.values\n",
    "y = df_cancer_onehot['Age_at_diagnosis'].values"
   ]
  },
  {
   "cell_type": "markdown",
   "metadata": {},
   "source": [
    "## Impute missing values\n",
    "Replace missing values using the median along each column"
   ]
  },
  {
   "cell_type": "code",
   "execution_count": 20,
   "metadata": {
    "scrolled": true
   },
   "outputs": [
    {
     "data": {
      "text/plain": [
       "REVEL                               650\n",
       "BayesDel                            650\n",
       "cBioportalCount                       0\n",
       "Short_topo_combined_count             0\n",
       "Residue_function                    413\n",
       "Population                           39\n",
       "Region                               39\n",
       "DNEclass                            858\n",
       "AGVGDClass                          646\n",
       "SIFTClass                           592\n",
       "Polyphen2                           650\n",
       "simplified_tumor_ADRENAL GLAND        0\n",
       "simplified_tumor_BONES (other)        0\n",
       "simplified_tumor_BRAIN                0\n",
       "simplified_tumor_BREAST               0\n",
       "simplified_tumor_HEMATOP. SYSTEM      0\n",
       "simplified_tumor_LUNG                 0\n",
       "simplified_tumor_Others               0\n",
       "simplified_tumor_SOFT TISSUES         0\n",
       "simplified_tumor_STOMACH              0\n",
       "simplified_tumor_UNKNOWN SITE         0\n",
       "dtype: int64"
      ]
     },
     "execution_count": 20,
     "metadata": {},
     "output_type": "execute_result"
    }
   ],
   "source": [
    "# Count the number of nan for each feature\n",
    "df_sel_features.isna().sum()"
   ]
  },
  {
   "cell_type": "code",
   "execution_count": 21,
   "metadata": {},
   "outputs": [],
   "source": [
    "# Replace missing values with median\n",
    "X_filledbymedian = impute.SimpleImputer(strategy='median').fit_transform(X)"
   ]
  },
  {
   "cell_type": "markdown",
   "metadata": {},
   "source": [
    "## Build Machine Learning model "
   ]
  },
  {
   "cell_type": "code",
   "execution_count": 99,
   "metadata": {
    "scrolled": true
   },
   "outputs": [
    {
     "name": "stderr",
     "output_type": "stream",
     "text": [
      "C:\\Users\\TKHsu\\Anaconda3\\lib\\site-packages\\sklearn\\ensemble\\forest.py:245: FutureWarning: The default value of n_estimators will change from 10 in version 0.20 to 100 in 0.22.\n",
      "  \"10 in version 0.20 to 100 in 0.22.\", FutureWarning)\n",
      "C:\\Users\\TKHsu\\Anaconda3\\lib\\site-packages\\sklearn\\ensemble\\forest.py:245: FutureWarning: The default value of n_estimators will change from 10 in version 0.20 to 100 in 0.22.\n",
      "  \"10 in version 0.20 to 100 in 0.22.\", FutureWarning)\n",
      "C:\\Users\\TKHsu\\Anaconda3\\lib\\site-packages\\sklearn\\ensemble\\forest.py:245: FutureWarning: The default value of n_estimators will change from 10 in version 0.20 to 100 in 0.22.\n",
      "  \"10 in version 0.20 to 100 in 0.22.\", FutureWarning)\n",
      "C:\\Users\\TKHsu\\Anaconda3\\lib\\site-packages\\sklearn\\ensemble\\forest.py:245: FutureWarning: The default value of n_estimators will change from 10 in version 0.20 to 100 in 0.22.\n",
      "  \"10 in version 0.20 to 100 in 0.22.\", FutureWarning)\n",
      "C:\\Users\\TKHsu\\Anaconda3\\lib\\site-packages\\sklearn\\ensemble\\forest.py:245: FutureWarning: The default value of n_estimators will change from 10 in version 0.20 to 100 in 0.22.\n",
      "  \"10 in version 0.20 to 100 in 0.22.\", FutureWarning)\n",
      "C:\\Users\\TKHsu\\Anaconda3\\lib\\site-packages\\sklearn\\ensemble\\forest.py:245: FutureWarning: The default value of n_estimators will change from 10 in version 0.20 to 100 in 0.22.\n",
      "  \"10 in version 0.20 to 100 in 0.22.\", FutureWarning)\n",
      "C:\\Users\\TKHsu\\Anaconda3\\lib\\site-packages\\sklearn\\ensemble\\forest.py:245: FutureWarning: The default value of n_estimators will change from 10 in version 0.20 to 100 in 0.22.\n",
      "  \"10 in version 0.20 to 100 in 0.22.\", FutureWarning)\n",
      "C:\\Users\\TKHsu\\Anaconda3\\lib\\site-packages\\sklearn\\ensemble\\forest.py:245: FutureWarning: The default value of n_estimators will change from 10 in version 0.20 to 100 in 0.22.\n",
      "  \"10 in version 0.20 to 100 in 0.22.\", FutureWarning)\n",
      "C:\\Users\\TKHsu\\Anaconda3\\lib\\site-packages\\sklearn\\ensemble\\forest.py:245: FutureWarning: The default value of n_estimators will change from 10 in version 0.20 to 100 in 0.22.\n",
      "  \"10 in version 0.20 to 100 in 0.22.\", FutureWarning)\n",
      "C:\\Users\\TKHsu\\Anaconda3\\lib\\site-packages\\sklearn\\ensemble\\forest.py:245: FutureWarning: The default value of n_estimators will change from 10 in version 0.20 to 100 in 0.22.\n",
      "  \"10 in version 0.20 to 100 in 0.22.\", FutureWarning)\n"
     ]
    }
   ],
   "source": [
    "r2 = []\n",
    "fold = 10  # Set the number of fold for cross validation\n",
    "df_importances = pd.DataFrame(columns=feature_to_use)\n",
    "row = 0\n",
    "for train_index, test_index in kf.split(X_filledbymedian):\n",
    "    X_train, X_test = X_filledbymedian[train_index], X_filledbymedian[test_index] \n",
    "    y_train, y_test = y[train_index], y[test_index]\n",
    "    RF = RandomForestRegressor().fit(X_train, y_train)\n",
    "    y_pred = RF.predict(X_test)\n",
    "    r2.append(r2_score(y_test,y_pred))\n",
    "    df_importances.loc[row] = RF.feature_importances_\n",
    "    row+=1\n",
    "    #importances.append(RF.feature_importances_)"
   ]
  },
  {
   "cell_type": "code",
   "execution_count": 86,
   "metadata": {
    "scrolled": true
   },
   "outputs": [
    {
     "data": {
      "image/png": "[encoded data removed]",
      "text/plain": [
       "<Figure size 432x288 with 1 Axes>"
      ]
     },
     "metadata": {
      "needs_background": "light"
     },
     "output_type": "display_data"
    }
   ],
   "source": [
    "ax = plt.boxplot(r2,labels=['$R^{2}$'])"
   ]
  },
  {
   "cell_type": "code",
   "execution_count": 122,
   "metadata": {
    "scrolled": true
   },
   "outputs": [
    {
     "data": {
      "image/png": "[encoded data removed]",
      "text/plain": [
       "<Figure size 432x576 with 1 Axes>"
      ]
     },
     "metadata": {
      "needs_background": "light"
     },
     "output_type": "display_data"
    }
   ],
   "source": [
    "plt.figure(figsize=(6,8))\n",
    "ax=sns.boxplot(data=df_importances,orient=\"h\",order=df_importances.median().sort_values(ascending=False).index)"
   ]
  },
  {
   "cell_type": "code",
   "execution_count": null,
   "metadata": {},
   "outputs": [],
   "source": []
  }
 ],
 "metadata": {
  "kernelspec": {
   "display_name": "Python 3",
   "language": "python",
   "name": "python3"
  },
  "language_info": {
   "codemirror_mode": {
    "name": "ipython",
    "version": 3
   },
   "file_extension": ".py",
   "mimetype": "text/x-python",
   "name": "python",
   "nbconvert_exporter": "python",
   "pygments_lexer": "ipython3",
   "version": "3.6.8"
  }
 },
 "nbformat": 4,
 "nbformat_minor": 2
}
