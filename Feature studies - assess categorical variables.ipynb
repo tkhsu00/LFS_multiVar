{
 "cells": [
  {
   "cell_type": "code",
   "execution_count": 1,
   "metadata": {},
   "outputs": [],
   "source": [
    "import seaborn as sns\n",
    "import pandas as pd\n",
    "import matplotlib.pyplot as plt\n",
    "import numpy as np\n",
    "from scipy import stats\n",
    "import itertools\n",
    "\n",
    "%matplotlib inline"
   ]
  },
  {
   "cell_type": "code",
   "execution_count": 2,
   "metadata": {},
   "outputs": [],
   "source": [
    "# Read LFS data (after cleaning)\n",
    "fn = \"LFS_cleaned.tsv\"\n",
    "df = pd.read_csv(fn,sep=\"\\t\")"
   ]
  },
  {
   "cell_type": "code",
   "execution_count": 3,
   "metadata": {},
   "outputs": [],
   "source": [
    "# Function to plot the number and age of onset for different groups for a categorical variable\n",
    "def plot_number_and_age(df,column_name,groups,f_size=(6, 4)):\n",
    "    plt.figure(figsize=f_size)\n",
    "    \n",
    "    # plot number of patients for each group\n",
    "    plt.subplot(2,1,1)\n",
    "    sns.countplot(y=column_name,data=df[df[column_name].isin(groups)])\n",
    "    \n",
    "    # plot age of onset for each group\n",
    "    plt.subplot(2,1,2)\n",
    "    sns.barplot(x= 'Age_at_diagnosis',y=column_name,data=df[df[column_name].isin(groups)])\n",
    "    \n",
    "    plt.tight_layout()"
   ]
  },
  {
   "cell_type": "code",
   "execution_count": 4,
   "metadata": {},
   "outputs": [],
   "source": [
    "# Function to compare the age of onset difference\n",
    "\n",
    "def cal_age_diff(df,column_name,groups,p_sig=0.01):\n",
    "    \n",
    "    group_data = [df[df[column_name]==group]['Age_at_diagnosis'].tolist() for group in groups]\n",
    "    _, p_all = stats.kruskal(*group_data)\n",
    "    \n",
    "    if p_all < p_sig:\n",
    "        print('* The distributions of age of onset of all samples are NOT equal (p={:.1e})'.format(p_all))\n",
    "        return 1\n",
    "    else:\n",
    "        print('* The distributions of age of onset of all samples are equal (p={:.1e})'.format(p_all))\n",
    "        return 0"
   ]
  },
  {
   "cell_type": "code",
   "execution_count": 5,
   "metadata": {},
   "outputs": [],
   "source": [
    "# Function to compare the age of onset difference among different groups in a categorical variable\n",
    "def cal_age_diff_by_group(df,column_name,groups,p_sig=0.01):\n",
    "    \n",
    "    group_data = [df[df[column_name]==group]['Age_at_diagnosis'].tolist() for group in groups]\n",
    "    _, p_all = stats.kruskal(*group_data)\n",
    "\n",
    "    list_pairs = list(itertools.combinations(groups, 2)) # get all possible pairs\n",
    "    sig, no_sig = [],[] # collect the list of pair with no significant difference\n",
    "    \n",
    "    for pair in list_pairs:\n",
    "        # apply Mann-Whitney test to compare two groups\n",
    "        _, p = stats.mannwhitneyu(df[df[column_name]==pair[0]]['Age_at_diagnosis'], \n",
    "                            df[df[column_name]==pair[1]]['Age_at_diagnosis'])\n",
    "        if p<p_sig:\n",
    "            sig.append(\" vs \".join(pair)+' (p = {:.1e})'.format(p))\n",
    "        else:\n",
    "            no_sig.append(\" vs \".join(pair)+' (p = {:.1e})'.format(p))\n",
    "    \n",
    "    if len(sig)>0:\n",
    "        print('* Group with significant difference (Mann-Whitney test p-value < {}):'.format(p_sig))\n",
    "        print('\\t'+'\\n\\t'.join(sig))\n",
    "    \n",
    "    if len(no_sig)>0:\n",
    "        print('* Group with no significant difference (Mann-Whitney test p-value >= {}):'.format(p_sig))\n",
    "        print('\\t'+'\\n\\t'.join(no_sig))"
   ]
  },
  {
   "cell_type": "markdown",
   "metadata": {},
   "source": [
    "## The effect of single feature"
   ]
  },
  {
   "cell_type": "code",
   "execution_count": 6,
   "metadata": {},
   "outputs": [],
   "source": [
    "effect_features = {'with_effect':[],\n",
    "                   'no_effect':[]}"
   ]
  },
  {
   "cell_type": "markdown",
   "metadata": {},
   "source": [
    "### 1. Gender"
   ]
  },
  {
   "cell_type": "markdown",
   "metadata": {},
   "source": [
    "#### 1.1. Collect the list of category for selected feature "
   ]
  },
  {
   "cell_type": "code",
   "execution_count": 7,
   "metadata": {},
   "outputs": [
    {
     "data": {
      "text/plain": [
       "F    1277\n",
       "M     777\n",
       "Name: Sex, dtype: int64"
      ]
     },
     "execution_count": 7,
     "metadata": {},
     "output_type": "execute_result"
    }
   ],
   "source": [
    "# Check the number of each category\n",
    "col_name = 'Sex'\n",
    "df[col_name].value_counts()"
   ]
  },
  {
   "cell_type": "code",
   "execution_count": 8,
   "metadata": {},
   "outputs": [
    {
     "data": {
      "text/plain": [
       "['M', 'F']"
      ]
     },
     "execution_count": 8,
     "metadata": {},
     "output_type": "execute_result"
    }
   ],
   "source": [
    "# Create the list of catagories\n",
    "gender_types = [x for x in set(df[col_name].tolist()) if x is not np.nan]\n",
    "gender_types"
   ]
  },
  {
   "cell_type": "markdown",
   "metadata": {},
   "source": [
    "#### 1.2. Plot the number and the 'age at diagnosis' for each category"
   ]
  },
  {
   "cell_type": "code",
   "execution_count": 9,
   "metadata": {
    "scrolled": false
   },
   "outputs": [
    {
     "data": {
      "image/png": "[encoded data removed]",
      "text/plain": [
       "<Figure size 432x216 with 2 Axes>"
      ]
     },
     "metadata": {
      "needs_background": "light"
     },
     "output_type": "display_data"
    }
   ],
   "source": [
    "plot_number_and_age(df,'Sex',gender_types,(6,3))"
   ]
  },
  {
   "cell_type": "markdown",
   "metadata": {},
   "source": [
    "#### 1.3. Calculate the significance of 'age at diagnosis' difference with Mann-Whitney test "
   ]
  },
  {
   "cell_type": "code",
   "execution_count": 10,
   "metadata": {
    "scrolled": false
   },
   "outputs": [
    {
     "name": "stdout",
     "output_type": "stream",
     "text": [
      "* The distributions of age of onset of all samples are equal (p=9.7e-02)\n"
     ]
    }
   ],
   "source": [
    "effect = cal_age_diff(df,col_name,gender_types)\n",
    "\n",
    "if effect:\n",
    "    effect_features['with_effect'].append(col_name)\n",
    "else:\n",
    "    effect_features['no_effect'].append(col_name)"
   ]
  },
  {
   "cell_type": "code",
   "execution_count": 11,
   "metadata": {},
   "outputs": [
    {
     "name": "stdout",
     "output_type": "stream",
     "text": [
      "* Group with no significant difference (Mann-Whitney test p-value >= 0.01):\n",
      "\tM vs F (p = 4.8e-02)\n"
     ]
    }
   ],
   "source": [
    "cal_age_diff_by_group(df,col_name,gender_types)"
   ]
  },
  {
   "cell_type": "markdown",
   "metadata": {},
   "source": [
    "### 2. Tumor sites"
   ]
  },
  {
   "cell_type": "markdown",
   "metadata": {},
   "source": [
    "#### 2.1. Collect the list of category for selected feature "
   ]
  },
  {
   "cell_type": "code",
   "execution_count": 12,
   "metadata": {},
   "outputs": [
    {
     "data": {
      "text/plain": [
       "BREAST                           587\n",
       "BRAIN                            317\n",
       "SOFT TISSUES                     225\n",
       "ADRENAL GLAND                    205\n",
       "BONES (other)                    131\n",
       "STOMACH                           74\n",
       "HEMATOP. SYSTEM                   73\n",
       "LUNG                              72\n",
       "UNKNOWN SITE                      71\n",
       "COLON                             40\n",
       "PROSTATE                          34\n",
       "OVARY                             27\n",
       "COLORECTUM, NOS                   26\n",
       "LIVER                             26\n",
       "PANCREAS                          24\n",
       "SKIN                              19\n",
       "UTERUS                            19\n",
       "BONES (limbs)                     17\n",
       "LYMPH NODES                       17\n",
       "KIDNEY                            16\n",
       "TESTIS                            15\n",
       "ESOPHAGUS                         11\n",
       "NERVES                             9\n",
       "THYROID                            9\n",
       "CERVIX UTERI                       8\n",
       "PERITONEUM                         7\n",
       "OTHER SITES                        7\n",
       "BLADDER                            7\n",
       "CORPUS UTERI                       6\n",
       "LARYNX                             5\n",
       "                                ... \n",
       "HEMATOP. SYSTEM;LYMPH NODES        1\n",
       "OVARY;SOFT TISSUES                 1\n",
       "SOFT TISSUES;UNKNOWN SITE          1\n",
       "BONES (limbs);LUNG                 1\n",
       "ENDOCRINE GLANDS, NOS              1\n",
       "BREAST;COLON                       1\n",
       "COLON;SKIN                         1\n",
       "SMALL INTESTINE                    1\n",
       "BONES (limbs);BREAST               1\n",
       "KIDNEY;NERVES                      1\n",
       "NERVES;OVARY                       1\n",
       "BREAST;UNKNOWN SITE                1\n",
       "BRAIN;BREAST                       1\n",
       "TONGUE (other)                     1\n",
       "PAROTID GLAND                      1\n",
       "RECTUM;UNKNOWN SITE                1\n",
       "BONES (other);LUNG                 1\n",
       "NERVES;SOFT TISSUES                1\n",
       "BRAIN;STOMACH                      1\n",
       "ADRENAL GLAND;HEMATOP. SYSTEM      1\n",
       "BREAST;HEART/MED/PLEURA            1\n",
       "ADRENAL GLAND;BREAST               1\n",
       "BREAST;HEMATOP. SYSTEM             1\n",
       "NASOPHARYNX;UNKNOWN SITE           1\n",
       "BREAST;UTERUS                      1\n",
       "PLACENTA                           1\n",
       "URETER                             1\n",
       "OTHER MALE GEN. ORG.               1\n",
       "COLON;SOFT TISSUES                 1\n",
       "VAGINA                             1\n",
       "Name: Short_topo_combined, Length: 87, dtype: int64"
      ]
     },
     "execution_count": 12,
     "metadata": {},
     "output_type": "execute_result"
    }
   ],
   "source": [
    "# Check the number of each category\n",
    "col_name = 'Short_topo_combined'\n",
    "df[col_name].value_counts()"
   ]
  },
  {
   "cell_type": "code",
   "execution_count": 13,
   "metadata": {},
   "outputs": [
    {
     "data": {
      "text/plain": [
       "['BREAST',\n",
       " 'BRAIN',\n",
       " 'SOFT TISSUES',\n",
       " 'ADRENAL GLAND',\n",
       " 'BONES (other)',\n",
       " 'STOMACH',\n",
       " 'HEMATOP. SYSTEM',\n",
       " 'LUNG',\n",
       " 'UNKNOWN SITE']"
      ]
     },
     "execution_count": 13,
     "metadata": {},
     "output_type": "execute_result"
    }
   ],
   "source": [
    "# Take common mutation type, remove the mutation types with too few patients\n",
    "common_cancers = []\n",
    "for cancer, count in df[col_name].value_counts().iteritems():\n",
    "    if count>50:\n",
    "        common_cancers.append(cancer)\n",
    "common_cancers"
   ]
  },
  {
   "cell_type": "markdown",
   "metadata": {},
   "source": [
    "#### 2.2. Plot the number and the 'age at diagnosis' for each category"
   ]
  },
  {
   "cell_type": "code",
   "execution_count": 14,
   "metadata": {
    "scrolled": false
   },
   "outputs": [
    {
     "data": {
      "image/png": "[encoded data removed]",
      "text/plain": [
       "<Figure size 432x432 with 2 Axes>"
      ]
     },
     "metadata": {
      "needs_background": "light"
     },
     "output_type": "display_data"
    }
   ],
   "source": [
    "plot_number_and_age(df,col_name,common_cancers,(6,6))"
   ]
  },
  {
   "cell_type": "markdown",
   "metadata": {},
   "source": [
    "#### 2.3. Calculate the significance of 'age at diagnosis' difference"
   ]
  },
  {
   "cell_type": "code",
   "execution_count": 15,
   "metadata": {
    "scrolled": true
   },
   "outputs": [
    {
     "name": "stdout",
     "output_type": "stream",
     "text": [
      "* The distributions of age of onset of all samples are NOT equal (p=2.8e-150)\n"
     ]
    }
   ],
   "source": [
    "effect = cal_age_diff(df,col_name,common_cancers)\n",
    "\n",
    "if effect:\n",
    "    effect_features['with_effect'].append(col_name)\n",
    "else:\n",
    "    effect_features['no_effect'].append(col_name)"
   ]
  },
  {
   "cell_type": "code",
   "execution_count": 16,
   "metadata": {},
   "outputs": [
    {
     "name": "stdout",
     "output_type": "stream",
     "text": [
      "* Group with significant difference (Mann-Whitney test p-value < 0.01):\n",
      "\tBREAST vs BRAIN (p = 1.0e-54)\n",
      "\tBREAST vs SOFT TISSUES (p = 4.9e-27)\n",
      "\tBREAST vs ADRENAL GLAND (p = 4.4e-87)\n",
      "\tBREAST vs BONES (other) (p = 4.1e-45)\n",
      "\tBREAST vs STOMACH (p = 3.8e-07)\n",
      "\tBREAST vs HEMATOP. SYSTEM (p = 1.9e-05)\n",
      "\tBREAST vs LUNG (p = 8.7e-15)\n",
      "\tBREAST vs UNKNOWN SITE (p = 8.4e-03)\n",
      "\tBRAIN vs ADRENAL GLAND (p = 7.4e-25)\n",
      "\tBRAIN vs BONES (other) (p = 1.3e-03)\n",
      "\tBRAIN vs STOMACH (p = 7.8e-24)\n",
      "\tBRAIN vs HEMATOP. SYSTEM (p = 1.1e-05)\n",
      "\tBRAIN vs LUNG (p = 3.6e-28)\n",
      "\tBRAIN vs UNKNOWN SITE (p = 6.4e-06)\n",
      "\tSOFT TISSUES vs ADRENAL GLAND (p = 1.3e-17)\n",
      "\tSOFT TISSUES vs STOMACH (p = 1.4e-16)\n",
      "\tSOFT TISSUES vs HEMATOP. SYSTEM (p = 2.2e-04)\n",
      "\tSOFT TISSUES vs LUNG (p = 5.7e-21)\n",
      "\tSOFT TISSUES vs UNKNOWN SITE (p = 1.2e-04)\n",
      "\tADRENAL GLAND vs BONES (other) (p = 1.9e-33)\n",
      "\tADRENAL GLAND vs STOMACH (p = 1.9e-34)\n",
      "\tADRENAL GLAND vs HEMATOP. SYSTEM (p = 9.8e-23)\n",
      "\tADRENAL GLAND vs LUNG (p = 9.1e-35)\n",
      "\tADRENAL GLAND vs UNKNOWN SITE (p = 3.6e-19)\n",
      "\tBONES (other) vs STOMACH (p = 1.6e-24)\n",
      "\tBONES (other) vs LUNG (p = 7.3e-27)\n",
      "\tBONES (other) vs UNKNOWN SITE (p = 1.5e-04)\n",
      "\tSTOMACH vs HEMATOP. SYSTEM (p = 4.0e-07)\n",
      "\tSTOMACH vs LUNG (p = 7.3e-03)\n",
      "\tSTOMACH vs UNKNOWN SITE (p = 4.2e-05)\n",
      "\tHEMATOP. SYSTEM vs LUNG (p = 3.3e-10)\n",
      "\tLUNG vs UNKNOWN SITE (p = 4.9e-08)\n",
      "* Group with no significant difference (Mann-Whitney test p-value >= 0.01):\n",
      "\tBRAIN vs SOFT TISSUES (p = 4.7e-01)\n",
      "\tSOFT TISSUES vs BONES (other) (p = 3.6e-02)\n",
      "\tBONES (other) vs HEMATOP. SYSTEM (p = 1.4e-02)\n",
      "\tHEMATOP. SYSTEM vs UNKNOWN SITE (p = 3.0e-01)\n"
     ]
    }
   ],
   "source": [
    "cal_age_diff_by_group(df,col_name,common_cancers)"
   ]
  },
  {
   "cell_type": "markdown",
   "metadata": {},
   "source": [
    "### 3. Mutation types"
   ]
  },
  {
   "cell_type": "markdown",
   "metadata": {},
   "source": [
    "#### 3.1. Collect the list of category for selected feature "
   ]
  },
  {
   "cell_type": "code",
   "execution_count": 17,
   "metadata": {},
   "outputs": [
    {
     "data": {
      "text/plain": [
       "missense     1546\n",
       "splice        207\n",
       "nonsense      184\n",
       "FS            156\n",
       "other          50\n",
       "large del      32\n",
       "silent          7\n",
       "intronic        5\n",
       "Name: Effect, dtype: int64"
      ]
     },
     "execution_count": 17,
     "metadata": {},
     "output_type": "execute_result"
    }
   ],
   "source": [
    "# Check the number of each category\n",
    "col_name = 'Effect'\n",
    "df[col_name].value_counts()"
   ]
  },
  {
   "cell_type": "code",
   "execution_count": 18,
   "metadata": {},
   "outputs": [
    {
     "data": {
      "text/plain": [
       "['missense', 'splice', 'nonsense', 'FS']"
      ]
     },
     "execution_count": 18,
     "metadata": {},
     "output_type": "execute_result"
    }
   ],
   "source": [
    "# Take common mutation type, remove the mutation types with too few patients\n",
    "common_muts = []\n",
    "for mut, count in df[col_name].value_counts().iteritems():\n",
    "    if count>50:\n",
    "        common_muts.append(mut)\n",
    "common_muts"
   ]
  },
  {
   "cell_type": "markdown",
   "metadata": {},
   "source": [
    "#### 3.2. Plot the number and the 'age at diagnosis' for each category"
   ]
  },
  {
   "cell_type": "code",
   "execution_count": 19,
   "metadata": {
    "scrolled": false
   },
   "outputs": [
    {
     "data": {
      "image/png": "[encoded data removed]",
      "text/plain": [
       "<Figure size 432x288 with 2 Axes>"
      ]
     },
     "metadata": {
      "needs_background": "light"
     },
     "output_type": "display_data"
    }
   ],
   "source": [
    "plot_number_and_age(df,'Effect',common_muts,(6,4))"
   ]
  },
  {
   "cell_type": "markdown",
   "metadata": {},
   "source": [
    "#### 3.3. Calculate the significance of 'age at diagnosis' difference"
   ]
  },
  {
   "cell_type": "code",
   "execution_count": 20,
   "metadata": {
    "scrolled": true
   },
   "outputs": [
    {
     "name": "stdout",
     "output_type": "stream",
     "text": [
      "* The distributions of age of onset of all samples are equal (p=6.2e-02)\n"
     ]
    }
   ],
   "source": [
    "effect = cal_age_diff(df,col_name,common_muts)\n",
    "\n",
    "if effect:\n",
    "    effect_features['with_effect'].append(col_name)\n",
    "else:\n",
    "    effect_features['no_effect'].append(col_name)"
   ]
  },
  {
   "cell_type": "code",
   "execution_count": 21,
   "metadata": {},
   "outputs": [
    {
     "name": "stdout",
     "output_type": "stream",
     "text": [
      "* Group with significant difference (Mann-Whitney test p-value < 0.01):\n",
      "\tsplice vs FS (p = 2.1e-03)\n",
      "* Group with no significant difference (Mann-Whitney test p-value >= 0.01):\n",
      "\tmissense vs splice (p = 2.0e-02)\n",
      "\tmissense vs nonsense (p = 3.5e-01)\n",
      "\tmissense vs FS (p = 9.9e-02)\n",
      "\tsplice vs nonsense (p = 2.0e-02)\n",
      "\tnonsense vs FS (p = 1.9e-01)\n"
     ]
    }
   ],
   "source": [
    "cal_age_diff_by_group(df,col_name,common_muts)"
   ]
  },
  {
   "cell_type": "markdown",
   "metadata": {},
   "source": [
    "### 4. Domain function"
   ]
  },
  {
   "cell_type": "markdown",
   "metadata": {},
   "source": [
    "#### 4.1. Collect the list of category for selected feature "
   ]
  },
  {
   "cell_type": "code",
   "execution_count": 22,
   "metadata": {
    "scrolled": true
   },
   "outputs": [
    {
     "data": {
      "text/plain": [
       "DNA binding                 1561\n",
       "Tetramerisation              247\n",
       "Tetramerisation/NES           43\n",
       "SH3-like/Pro-rich             23\n",
       "Regulation                     9\n",
       "Transactivation TAD2           7\n",
       "Transactivation TAD1/NES       7\n",
       "Transactivation TAD1           6\n",
       "Regulation/NLS                 1\n",
       "Name: Domain_function, dtype: int64"
      ]
     },
     "execution_count": 22,
     "metadata": {},
     "output_type": "execute_result"
    }
   ],
   "source": [
    "# Check the number of each category\n",
    "col_name = 'Domain_function'\n",
    "df[col_name].value_counts()"
   ]
  },
  {
   "cell_type": "code",
   "execution_count": 23,
   "metadata": {},
   "outputs": [
    {
     "data": {
      "text/plain": [
       "['DNA binding', 'Tetramerisation', 'Tetramerisation/NES', 'SH3-like/Pro-rich']"
      ]
     },
     "execution_count": 23,
     "metadata": {},
     "output_type": "execute_result"
    }
   ],
   "source": [
    "# Take common mutation type, remove the mutation types with too few patients\n",
    "common_func = []\n",
    "for func, count in df[col_name].value_counts().iteritems():\n",
    "    if count>20:\n",
    "        common_func.append(func)\n",
    "common_func"
   ]
  },
  {
   "cell_type": "markdown",
   "metadata": {},
   "source": [
    "#### 4.2. Plot the number and the 'age at diagnosis' for each category"
   ]
  },
  {
   "cell_type": "code",
   "execution_count": 24,
   "metadata": {
    "scrolled": false
   },
   "outputs": [
    {
     "data": {
      "image/png": "[encoded data removed]",
      "text/plain": [
       "<Figure size 432x288 with 2 Axes>"
      ]
     },
     "metadata": {
      "needs_background": "light"
     },
     "output_type": "display_data"
    }
   ],
   "source": [
    "plot_number_and_age(df,col_name,common_func,(6,4))"
   ]
  },
  {
   "cell_type": "markdown",
   "metadata": {},
   "source": [
    "#### 4.3. Calculate the significance of 'age at diagnosis' difference"
   ]
  },
  {
   "cell_type": "code",
   "execution_count": 25,
   "metadata": {
    "scrolled": false
   },
   "outputs": [
    {
     "name": "stdout",
     "output_type": "stream",
     "text": [
      "* The distributions of age of onset of all samples are equal (p=2.6e-02)\n"
     ]
    }
   ],
   "source": [
    "effect = cal_age_diff(df,col_name,common_func)\n",
    "\n",
    "if effect:\n",
    "    effect_features['with_effect'].append(col_name)\n",
    "else:\n",
    "    effect_features['no_effect'].append(col_name)"
   ]
  },
  {
   "cell_type": "code",
   "execution_count": 26,
   "metadata": {},
   "outputs": [
    {
     "name": "stdout",
     "output_type": "stream",
     "text": [
      "* Group with significant difference (Mann-Whitney test p-value < 0.01):\n",
      "\tDNA binding vs Tetramerisation (p = 1.5e-03)\n",
      "* Group with no significant difference (Mann-Whitney test p-value >= 0.01):\n",
      "\tDNA binding vs Tetramerisation/NES (p = 2.9e-01)\n",
      "\tDNA binding vs SH3-like/Pro-rich (p = 3.9e-01)\n",
      "\tTetramerisation vs Tetramerisation/NES (p = 1.4e-01)\n",
      "\tTetramerisation vs SH3-like/Pro-rich (p = 9.9e-02)\n",
      "\tTetramerisation/NES vs SH3-like/Pro-rich (p = 3.7e-01)\n"
     ]
    }
   ],
   "source": [
    "cal_age_diff_by_group(df,col_name,common_func)"
   ]
  },
  {
   "cell_type": "markdown",
   "metadata": {},
   "source": [
    "### 5. Residue function"
   ]
  },
  {
   "cell_type": "markdown",
   "metadata": {},
   "source": [
    "#### 5.1. Collect the list of category for selected feature "
   ]
  },
  {
   "cell_type": "code",
   "execution_count": 27,
   "metadata": {},
   "outputs": [
    {
     "data": {
      "text/plain": [
       "Buried                                         764\n",
       "DNA binding                                    317\n",
       "Tetramerisation/Methylation site               224\n",
       "Partially exposed                              207\n",
       "Exposed                                        147\n",
       "Zn binding                                      43\n",
       "Phosphorylation site                            33\n",
       "S-glutathionylation site                        14\n",
       "Tetramerisation                                 10\n",
       "ADP-ribosylation                                 7\n",
       "Acetylation/Ubiquitination site                  4\n",
       "Acetylation site                                 3\n",
       "Ubiquitination site                              3\n",
       "Methylation site                                 2\n",
       "Acetylation/Methylation/Ubiquitination site      1\n",
       "Name: Residue_function, dtype: int64"
      ]
     },
     "execution_count": 27,
     "metadata": {},
     "output_type": "execute_result"
    }
   ],
   "source": [
    "# Check the number of each category\n",
    "col_name = 'Residue_function'\n",
    "df[col_name].value_counts()"
   ]
  },
  {
   "cell_type": "code",
   "execution_count": 28,
   "metadata": {},
   "outputs": [
    {
     "data": {
      "text/plain": [
       "['Buried',\n",
       " 'DNA binding',\n",
       " 'Tetramerisation/Methylation site',\n",
       " 'Partially exposed',\n",
       " 'Exposed']"
      ]
     },
     "execution_count": 28,
     "metadata": {},
     "output_type": "execute_result"
    }
   ],
   "source": [
    "# Take common mutation type, remove the mutation types with too few patients\n",
    "common_res_func = []\n",
    "for res_func, count in df[col_name].value_counts().iteritems():\n",
    "    if count>50:\n",
    "        common_res_func.append(res_func)\n",
    "common_res_func"
   ]
  },
  {
   "cell_type": "markdown",
   "metadata": {},
   "source": [
    "#### 5.2. Plot the number and the 'age at diagnosis' for each category"
   ]
  },
  {
   "cell_type": "code",
   "execution_count": 29,
   "metadata": {
    "scrolled": false
   },
   "outputs": [
    {
     "data": {
      "image/png": "[encoded data removed]",
      "text/plain": [
       "<Figure size 432x288 with 2 Axes>"
      ]
     },
     "metadata": {
      "needs_background": "light"
     },
     "output_type": "display_data"
    }
   ],
   "source": [
    "plot_number_and_age(df,col_name,common_res_func,(6,4))"
   ]
  },
  {
   "cell_type": "markdown",
   "metadata": {},
   "source": [
    "#### 5.3. Calculate the significance of 'age at diagnosis' difference with Mann-Whitney test "
   ]
  },
  {
   "cell_type": "code",
   "execution_count": 30,
   "metadata": {
    "scrolled": false
   },
   "outputs": [
    {
     "name": "stdout",
     "output_type": "stream",
     "text": [
      "* The distributions of age of onset of all samples are NOT equal (p=4.9e-07)\n"
     ]
    }
   ],
   "source": [
    "effect = cal_age_diff(df,col_name,common_res_func)\n",
    "\n",
    "if effect:\n",
    "    effect_features['with_effect'].append(col_name)\n",
    "else:\n",
    "    effect_features['no_effect'].append(col_name)"
   ]
  },
  {
   "cell_type": "code",
   "execution_count": 31,
   "metadata": {},
   "outputs": [
    {
     "name": "stdout",
     "output_type": "stream",
     "text": [
      "* Group with significant difference (Mann-Whitney test p-value < 0.01):\n",
      "\tBuried vs DNA binding (p = 7.1e-05)\n",
      "\tBuried vs Tetramerisation/Methylation site (p = 1.2e-03)\n",
      "\tBuried vs Exposed (p = 4.6e-03)\n",
      "\tDNA binding vs Partially exposed (p = 4.6e-04)\n",
      "\tDNA binding vs Exposed (p = 2.4e-07)\n",
      "\tTetramerisation/Methylation site vs Partially exposed (p = 7.3e-03)\n",
      "\tTetramerisation/Methylation site vs Exposed (p = 4.4e-05)\n",
      "* Group with no significant difference (Mann-Whitney test p-value >= 0.01):\n",
      "\tBuried vs Partially exposed (p = 2.9e-01)\n",
      "\tDNA binding vs Tetramerisation/Methylation site (p = 2.9e-01)\n",
      "\tPartially exposed vs Exposed (p = 3.9e-02)\n"
     ]
    }
   ],
   "source": [
    "cal_age_diff_by_group(df,col_name,common_res_func)"
   ]
  },
  {
   "cell_type": "markdown",
   "metadata": {},
   "source": [
    "### 6. Population"
   ]
  },
  {
   "cell_type": "markdown",
   "metadata": {},
   "source": [
    "#### 6.1. Collect the list of category for selected feature "
   ]
  },
  {
   "cell_type": "code",
   "execution_count": 32,
   "metadata": {},
   "outputs": [
    {
     "data": {
      "text/plain": [
       "Northern America              617\n",
       "Western Europe                406\n",
       "South America                 284\n",
       "Northern Europe               251\n",
       "Southern Europe               134\n",
       "Eastern Asia                  126\n",
       "Australia/New Zealand         118\n",
       "Eastern Europe                 61\n",
       "Western Asia                   59\n",
       "South Eastern Asia             42\n",
       "More developed regions,NOS     29\n",
       "South Central Asia             12\n",
       "Central America                 7\n",
       "Northern Africa                 5\n",
       "Europe, NOS                     1\n",
       "Micronesia                      1\n",
       "Name: Population, dtype: int64"
      ]
     },
     "execution_count": 32,
     "metadata": {},
     "output_type": "execute_result"
    }
   ],
   "source": [
    "# Check the number of each category\n",
    "col_name = 'Population'\n",
    "df[col_name].value_counts()"
   ]
  },
  {
   "cell_type": "code",
   "execution_count": 33,
   "metadata": {},
   "outputs": [
    {
     "data": {
      "text/plain": [
       "['Northern America',\n",
       " 'Western Europe',\n",
       " 'South America',\n",
       " 'Northern Europe',\n",
       " 'Southern Europe',\n",
       " 'Eastern Asia',\n",
       " 'Australia/New Zealand',\n",
       " 'Eastern Europe',\n",
       " 'Western Asia',\n",
       " 'South Eastern Asia']"
      ]
     },
     "execution_count": 33,
     "metadata": {},
     "output_type": "execute_result"
    }
   ],
   "source": [
    "# Take common mutation type, remove the mutation types with too few patients\n",
    "common_pop = []\n",
    "for pop, count in df[col_name].value_counts().iteritems():\n",
    "    if count>40:\n",
    "        common_pop.append(pop)\n",
    "common_pop"
   ]
  },
  {
   "cell_type": "markdown",
   "metadata": {},
   "source": [
    "#### 6.2. Plot the number and the 'age at diagnosis' for each category"
   ]
  },
  {
   "cell_type": "code",
   "execution_count": 34,
   "metadata": {
    "scrolled": false
   },
   "outputs": [
    {
     "data": {
      "image/png": "[encoded data removed]",
      "text/plain": [
       "<Figure size 432x432 with 2 Axes>"
      ]
     },
     "metadata": {
      "needs_background": "light"
     },
     "output_type": "display_data"
    }
   ],
   "source": [
    "plot_number_and_age(df,col_name,common_pop,(6,6))"
   ]
  },
  {
   "cell_type": "markdown",
   "metadata": {},
   "source": [
    "#### 6.3. Calculate the significance of 'age at diagnosis' difference"
   ]
  },
  {
   "cell_type": "code",
   "execution_count": 35,
   "metadata": {
    "scrolled": true
   },
   "outputs": [
    {
     "name": "stdout",
     "output_type": "stream",
     "text": [
      "* The distributions of age of onset of all samples are NOT equal (p=6.4e-07)\n"
     ]
    }
   ],
   "source": [
    "effect = cal_age_diff(df,col_name,common_pop)\n",
    "\n",
    "if effect:\n",
    "    effect_features['with_effect'].append(col_name)\n",
    "else:\n",
    "    effect_features['no_effect'].append(col_name)"
   ]
  },
  {
   "cell_type": "code",
   "execution_count": 36,
   "metadata": {
    "scrolled": true
   },
   "outputs": [
    {
     "name": "stdout",
     "output_type": "stream",
     "text": [
      "* Group with significant difference (Mann-Whitney test p-value < 0.01):\n",
      "\tNorthern America vs Western Europe (p = 7.9e-03)\n",
      "\tNorthern America vs Northern Europe (p = 9.6e-03)\n",
      "\tNorthern America vs Australia/New Zealand (p = 4.7e-07)\n",
      "\tNorthern America vs Western Asia (p = 2.1e-06)\n",
      "\tWestern Europe vs Australia/New Zealand (p = 6.5e-04)\n",
      "\tWestern Europe vs Western Asia (p = 2.9e-04)\n",
      "\tSouth America vs Australia/New Zealand (p = 7.6e-05)\n",
      "\tSouth America vs Western Asia (p = 1.4e-04)\n",
      "\tNorthern Europe vs Australia/New Zealand (p = 9.3e-04)\n",
      "\tNorthern Europe vs Western Asia (p = 2.4e-04)\n",
      "\tSouthern Europe vs Australia/New Zealand (p = 8.9e-03)\n",
      "\tSouthern Europe vs Western Asia (p = 1.6e-03)\n",
      "\tEastern Asia vs Australia/New Zealand (p = 1.1e-03)\n",
      "\tEastern Asia vs Western Asia (p = 2.6e-04)\n",
      "\tAustralia/New Zealand vs Eastern Europe (p = 5.7e-03)\n",
      "\tAustralia/New Zealand vs South Eastern Asia (p = 5.3e-03)\n",
      "\tEastern Europe vs Western Asia (p = 2.1e-03)\n",
      "\tWestern Asia vs South Eastern Asia (p = 4.9e-04)\n",
      "* Group with no significant difference (Mann-Whitney test p-value >= 0.01):\n",
      "\tNorthern America vs South America (p = 4.1e-01)\n",
      "\tNorthern America vs Southern Europe (p = 1.0e-02)\n",
      "\tNorthern America vs Eastern Asia (p = 8.0e-02)\n",
      "\tNorthern America vs Eastern Europe (p = 2.6e-01)\n",
      "\tNorthern America vs South Eastern Asia (p = 1.5e-01)\n",
      "\tWestern Europe vs South America (p = 3.1e-02)\n",
      "\tWestern Europe vs Northern Europe (p = 4.3e-01)\n",
      "\tWestern Europe vs Southern Europe (p = 2.8e-01)\n",
      "\tWestern Europe vs Eastern Asia (p = 3.6e-01)\n",
      "\tWestern Europe vs Eastern Europe (p = 3.1e-01)\n",
      "\tWestern Europe vs South Eastern Asia (p = 4.5e-01)\n",
      "\tSouth America vs Northern Europe (p = 5.4e-02)\n",
      "\tSouth America vs Southern Europe (p = 3.7e-02)\n",
      "\tSouth America vs Eastern Asia (p = 1.2e-01)\n",
      "\tSouth America vs Eastern Europe (p = 3.0e-01)\n",
      "\tSouth America vs South Eastern Asia (p = 3.1e-01)\n",
      "\tNorthern Europe vs Southern Europe (p = 3.2e-01)\n",
      "\tNorthern Europe vs Eastern Asia (p = 3.2e-01)\n",
      "\tNorthern Europe vs Eastern Europe (p = 2.9e-01)\n",
      "\tNorthern Europe vs South Eastern Asia (p = 4.0e-01)\n",
      "\tSouthern Europe vs Eastern Asia (p = 2.1e-01)\n",
      "\tSouthern Europe vs Eastern Europe (p = 2.2e-01)\n",
      "\tSouthern Europe vs South Eastern Asia (p = 2.5e-01)\n",
      "\tEastern Asia vs Eastern Europe (p = 3.9e-01)\n",
      "\tEastern Asia vs South Eastern Asia (p = 5.0e-01)\n",
      "\tAustralia/New Zealand vs Western Asia (p = 1.7e-01)\n",
      "\tEastern Europe vs South Eastern Asia (p = 4.8e-01)\n"
     ]
    }
   ],
   "source": [
    "cal_age_diff_by_group(df,col_name,common_pop)"
   ]
  },
  {
   "cell_type": "markdown",
   "metadata": {},
   "source": [
    "### 7. Region"
   ]
  },
  {
   "cell_type": "markdown",
   "metadata": {},
   "source": [
    "#### 7.1. Collect the list of category for selected feature "
   ]
  },
  {
   "cell_type": "code",
   "execution_count": 37,
   "metadata": {},
   "outputs": [
    {
     "data": {
      "text/plain": [
       "Americas                      908\n",
       "Europe                        853\n",
       "Asia                          239\n",
       "Western Pacific               119\n",
       "More developed regions,NOS     29\n",
       "Africa                          5\n",
       "Name: Region, dtype: int64"
      ]
     },
     "execution_count": 37,
     "metadata": {},
     "output_type": "execute_result"
    }
   ],
   "source": [
    "# Check the number of each category\n",
    "col_name = 'Region'\n",
    "df[col_name].value_counts()"
   ]
  },
  {
   "cell_type": "code",
   "execution_count": 38,
   "metadata": {},
   "outputs": [
    {
     "data": {
      "text/plain": [
       "['Americas', 'Europe', 'Asia', 'Western Pacific']"
      ]
     },
     "execution_count": 38,
     "metadata": {},
     "output_type": "execute_result"
    }
   ],
   "source": [
    "# Take common mutation type, remove the mutation types with too few patients\n",
    "common_reg = []\n",
    "for reg, count in df[col_name].value_counts().iteritems():\n",
    "    if count>100:\n",
    "        common_reg.append(reg)\n",
    "common_reg"
   ]
  },
  {
   "cell_type": "markdown",
   "metadata": {},
   "source": [
    "#### 7.2. Plot the number and the 'age at diagnosis' for each category"
   ]
  },
  {
   "cell_type": "code",
   "execution_count": 39,
   "metadata": {
    "scrolled": false
   },
   "outputs": [
    {
     "data": {
      "image/png": "[encoded data removed]",
      "text/plain": [
       "<Figure size 432x288 with 2 Axes>"
      ]
     },
     "metadata": {
      "needs_background": "light"
     },
     "output_type": "display_data"
    }
   ],
   "source": [
    "plot_number_and_age(df,'Region',common_reg,(6,4))"
   ]
  },
  {
   "cell_type": "markdown",
   "metadata": {},
   "source": [
    "#### 7.3. Calculate the significance of 'age at diagnosis' difference"
   ]
  },
  {
   "cell_type": "code",
   "execution_count": 40,
   "metadata": {
    "scrolled": true
   },
   "outputs": [
    {
     "name": "stdout",
     "output_type": "stream",
     "text": [
      "* The distributions of age of onset of all samples are NOT equal (p=5.1e-07)\n"
     ]
    }
   ],
   "source": [
    "effect = cal_age_diff(df,col_name,common_reg)\n",
    "\n",
    "if effect:\n",
    "    effect_features['with_effect'].append(col_name)\n",
    "else:\n",
    "    effect_features['no_effect'].append(col_name)"
   ]
  },
  {
   "cell_type": "code",
   "execution_count": 41,
   "metadata": {
    "scrolled": true
   },
   "outputs": [
    {
     "name": "stdout",
     "output_type": "stream",
     "text": [
      "* Group with significant difference (Mann-Whitney test p-value < 0.01):\n",
      "\tAmericas vs Europe (p = 5.3e-04)\n",
      "\tAmericas vs Asia (p = 3.0e-04)\n",
      "\tAmericas vs Western Pacific (p = 2.2e-06)\n",
      "\tEurope vs Western Pacific (p = 5.0e-04)\n",
      "* Group with no significant difference (Mann-Whitney test p-value >= 0.01):\n",
      "\tEurope vs Asia (p = 1.1e-01)\n",
      "\tAsia vs Western Pacific (p = 1.3e-02)\n"
     ]
    }
   ],
   "source": [
    "cal_age_diff_by_group(df,col_name,common_reg)"
   ]
  },
  {
   "cell_type": "markdown",
   "metadata": {},
   "source": [
    "### 8. DNE class"
   ]
  },
  {
   "cell_type": "markdown",
   "metadata": {},
   "source": [
    "#### 8.1. Collect the list of category for selected feature "
   ]
  },
  {
   "cell_type": "code",
   "execution_count": 42,
   "metadata": {},
   "outputs": [
    {
     "data": {
      "text/plain": [
       "Moderate    528\n",
       "Yes         516\n",
       "No          290\n",
       "Name: DNEclass, dtype: int64"
      ]
     },
     "execution_count": 42,
     "metadata": {},
     "output_type": "execute_result"
    }
   ],
   "source": [
    "# Check the number of each category\n",
    "col_name = 'DNEclass'\n",
    "df['DNEclass'].value_counts()"
   ]
  },
  {
   "cell_type": "code",
   "execution_count": 43,
   "metadata": {},
   "outputs": [
    {
     "data": {
      "text/plain": [
       "['Yes', 'No', 'Moderate']"
      ]
     },
     "execution_count": 43,
     "metadata": {},
     "output_type": "execute_result"
    }
   ],
   "source": [
    "# get the list of disease class, remove nan\n",
    "DNEs = [c for c in set(df[col_name].tolist()) if c is not np.nan]\n",
    "DNEs"
   ]
  },
  {
   "cell_type": "markdown",
   "metadata": {},
   "source": [
    "#### 8.2. Plot the number and the 'age at diagnosis' for each category"
   ]
  },
  {
   "cell_type": "code",
   "execution_count": 44,
   "metadata": {
    "scrolled": false
   },
   "outputs": [
    {
     "data": {
      "image/png": "[encoded data removed]",
      "text/plain": [
       "<Figure size 432x216 with 2 Axes>"
      ]
     },
     "metadata": {
      "needs_background": "light"
     },
     "output_type": "display_data"
    }
   ],
   "source": [
    "plot_number_and_age(df,col_name,DNEs,(6,3))"
   ]
  },
  {
   "cell_type": "markdown",
   "metadata": {},
   "source": [
    "#### 8.3. Calculate the significance of 'age at diagnosis' difference"
   ]
  },
  {
   "cell_type": "code",
   "execution_count": 45,
   "metadata": {
    "scrolled": true
   },
   "outputs": [
    {
     "name": "stdout",
     "output_type": "stream",
     "text": [
      "* The distributions of age of onset of all samples are NOT equal (p=1.1e-05)\n"
     ]
    }
   ],
   "source": [
    "effect = cal_age_diff(df,col_name,DNEs)\n",
    "\n",
    "if effect:\n",
    "    effect_features['with_effect'].append(col_name)\n",
    "else:\n",
    "    effect_features['no_effect'].append(col_name)"
   ]
  },
  {
   "cell_type": "code",
   "execution_count": 46,
   "metadata": {
    "scrolled": false
   },
   "outputs": [
    {
     "name": "stdout",
     "output_type": "stream",
     "text": [
      "* Group with significant difference (Mann-Whitney test p-value < 0.01):\n",
      "\tYes vs No (p = 3.9e-07)\n",
      "\tYes vs Moderate (p = 3.4e-03)\n",
      "* Group with no significant difference (Mann-Whitney test p-value >= 0.01):\n",
      "\tNo vs Moderate (p = 2.2e-02)\n"
     ]
    }
   ],
   "source": [
    "cal_age_diff_by_group(df,col_name,DNEs)"
   ]
  },
  {
   "cell_type": "markdown",
   "metadata": {},
   "source": [
    "### 9. AGVGD Class"
   ]
  },
  {
   "cell_type": "markdown",
   "metadata": {},
   "source": [
    "#### 9.1. Collect the list of category for selected feature "
   ]
  },
  {
   "cell_type": "code",
   "execution_count": 47,
   "metadata": {},
   "outputs": [
    {
     "data": {
      "text/plain": [
       "C65    526\n",
       "C0     347\n",
       "C25    215\n",
       "C55    168\n",
       "C35    149\n",
       "C45     81\n",
       "C15     60\n",
       "Name: AGVGDClass, dtype: int64"
      ]
     },
     "execution_count": 47,
     "metadata": {},
     "output_type": "execute_result"
    }
   ],
   "source": [
    "# Check the number of each category\n",
    "col_name = 'AGVGDClass'\n",
    "df[col_name].value_counts()"
   ]
  },
  {
   "cell_type": "code",
   "execution_count": 48,
   "metadata": {},
   "outputs": [
    {
     "data": {
      "text/plain": [
       "['C15', 'C35', 'C45', 'C25', 'C0', 'C65', 'C55']"
      ]
     },
     "execution_count": 48,
     "metadata": {},
     "output_type": "execute_result"
    }
   ],
   "source": [
    "# get the list of disease class, remove nan\n",
    "AGVGDs = [c for c in set(df[col_name].tolist()) if c is not np.nan]\n",
    "AGVGDs"
   ]
  },
  {
   "cell_type": "markdown",
   "metadata": {},
   "source": [
    "#### 9.2. Plot the number and the 'age at diagnosis' for each category"
   ]
  },
  {
   "cell_type": "code",
   "execution_count": 49,
   "metadata": {
    "scrolled": false
   },
   "outputs": [
    {
     "data": {
      "image/png": "[encoded data removed]",
      "text/plain": [
       "<Figure size 432x432 with 2 Axes>"
      ]
     },
     "metadata": {
      "needs_background": "light"
     },
     "output_type": "display_data"
    }
   ],
   "source": [
    "plot_number_and_age(df,col_name,AGVGDs,(6,6))"
   ]
  },
  {
   "cell_type": "markdown",
   "metadata": {},
   "source": [
    "#### 9.3. Calculate the significance of 'age at diagnosis' difference"
   ]
  },
  {
   "cell_type": "code",
   "execution_count": 50,
   "metadata": {
    "scrolled": true
   },
   "outputs": [
    {
     "name": "stdout",
     "output_type": "stream",
     "text": [
      "* The distributions of age of onset of all samples are NOT equal (p=5.7e-03)\n"
     ]
    }
   ],
   "source": [
    "effect = cal_age_diff(df,col_name,AGVGDs)\n",
    "\n",
    "if effect:\n",
    "    effect_features['with_effect'].append(col_name)\n",
    "else:\n",
    "    effect_features['no_effect'].append(col_name)"
   ]
  },
  {
   "cell_type": "code",
   "execution_count": 51,
   "metadata": {
    "scrolled": true
   },
   "outputs": [
    {
     "name": "stdout",
     "output_type": "stream",
     "text": [
      "* Group with significant difference (Mann-Whitney test p-value < 0.01):\n",
      "\tC15 vs C25 (p = 1.2e-03)\n",
      "\tC15 vs C65 (p = 7.3e-04)\n",
      "\tC35 vs C65 (p = 8.1e-03)\n",
      "* Group with no significant difference (Mann-Whitney test p-value >= 0.01):\n",
      "\tC15 vs C35 (p = 1.0e-01)\n",
      "\tC15 vs C45 (p = 1.2e-01)\n",
      "\tC15 vs C0 (p = 2.2e-02)\n",
      "\tC15 vs C55 (p = 1.7e-02)\n",
      "\tC35 vs C45 (p = 4.3e-01)\n",
      "\tC35 vs C25 (p = 1.4e-02)\n",
      "\tC35 vs C0 (p = 1.3e-01)\n",
      "\tC35 vs C55 (p = 2.1e-01)\n",
      "\tC45 vs C25 (p = 1.9e-02)\n",
      "\tC45 vs C0 (p = 2.2e-01)\n",
      "\tC45 vs C65 (p = 1.2e-02)\n",
      "\tC45 vs C55 (p = 2.4e-01)\n",
      "\tC25 vs C0 (p = 1.0e-01)\n",
      "\tC25 vs C65 (p = 4.5e-01)\n",
      "\tC25 vs C55 (p = 5.6e-02)\n",
      "\tC0 vs C65 (p = 8.5e-02)\n",
      "\tC0 vs C55 (p = 4.7e-01)\n",
      "\tC65 vs C55 (p = 4.6e-02)\n"
     ]
    }
   ],
   "source": [
    "cal_age_diff_by_group(df,col_name,AGVGDs)"
   ]
  },
  {
   "cell_type": "markdown",
   "metadata": {},
   "source": [
    "### 10. SIFT Class"
   ]
  },
  {
   "cell_type": "markdown",
   "metadata": {},
   "source": [
    "#### 10.1. Collect the list of category for selected feature "
   ]
  },
  {
   "cell_type": "code",
   "execution_count": 52,
   "metadata": {},
   "outputs": [
    {
     "data": {
      "text/plain": [
       "Damaging     1448\n",
       "Tolerated     152\n",
       "Name: SIFTClass, dtype: int64"
      ]
     },
     "execution_count": 52,
     "metadata": {},
     "output_type": "execute_result"
    }
   ],
   "source": [
    "# Check the number of each category\n",
    "col_name = 'SIFTClass'\n",
    "df[col_name].value_counts()"
   ]
  },
  {
   "cell_type": "code",
   "execution_count": 53,
   "metadata": {},
   "outputs": [
    {
     "data": {
      "text/plain": [
       "['Tolerated', 'Damaging']"
      ]
     },
     "execution_count": 53,
     "metadata": {},
     "output_type": "execute_result"
    }
   ],
   "source": [
    "# get the list of disease class, remove nan\n",
    "SIFTs = [c for c in set(df[col_name].tolist()) if c is not np.nan]\n",
    "SIFTs"
   ]
  },
  {
   "cell_type": "markdown",
   "metadata": {},
   "source": [
    "#### 10.2. Plot the number and the 'age at diagnosis' for each category"
   ]
  },
  {
   "cell_type": "code",
   "execution_count": 54,
   "metadata": {
    "scrolled": false
   },
   "outputs": [
    {
     "data": {
      "image/png": "[encoded data removed]",
      "text/plain": [
       "<Figure size 432x216 with 2 Axes>"
      ]
     },
     "metadata": {
      "needs_background": "light"
     },
     "output_type": "display_data"
    }
   ],
   "source": [
    "plot_number_and_age(df,col_name,SIFTs,(6,3))"
   ]
  },
  {
   "cell_type": "markdown",
   "metadata": {},
   "source": [
    "#### 10.3. Calculate the significance of 'age at diagnosis' difference"
   ]
  },
  {
   "cell_type": "code",
   "execution_count": 55,
   "metadata": {
    "scrolled": true
   },
   "outputs": [
    {
     "name": "stdout",
     "output_type": "stream",
     "text": [
      "* The distributions of age of onset of all samples are NOT equal (p=6.1e-05)\n"
     ]
    }
   ],
   "source": [
    "effect = cal_age_diff(df,col_name,SIFTs)\n",
    "\n",
    "if effect:\n",
    "    effect_features['with_effect'].append(col_name)\n",
    "else:\n",
    "    effect_features['no_effect'].append(col_name)"
   ]
  },
  {
   "cell_type": "code",
   "execution_count": 56,
   "metadata": {
    "scrolled": true
   },
   "outputs": [
    {
     "name": "stdout",
     "output_type": "stream",
     "text": [
      "* Group with significant difference (Mann-Whitney test p-value < 0.01):\n",
      "\tTolerated vs Damaging (p = 3.0e-05)\n"
     ]
    }
   ],
   "source": [
    "cal_age_diff_by_group(df,col_name,SIFTs)"
   ]
  },
  {
   "attachments": {},
   "cell_type": "markdown",
   "metadata": {},
   "source": [
    "### 11. Polyphen2"
   ]
  },
  {
   "cell_type": "markdown",
   "metadata": {},
   "source": [
    "#### 11.1. Collect the list of category for selected feature "
   ]
  },
  {
   "cell_type": "code",
   "execution_count": 57,
   "metadata": {},
   "outputs": [
    {
     "data": {
      "text/plain": [
       "D    1184\n",
       "P     291\n",
       "B      67\n",
       "Name: Polyphen2, dtype: int64"
      ]
     },
     "execution_count": 57,
     "metadata": {},
     "output_type": "execute_result"
    }
   ],
   "source": [
    "# Check the number of each category\n",
    "col_name = 'Polyphen2' \n",
    "df[col_name].value_counts()"
   ]
  },
  {
   "cell_type": "code",
   "execution_count": 58,
   "metadata": {},
   "outputs": [
    {
     "data": {
      "text/plain": [
       "['P', 'B', 'D']"
      ]
     },
     "execution_count": 58,
     "metadata": {},
     "output_type": "execute_result"
    }
   ],
   "source": [
    "# get the list of disease class, remove nan\n",
    "PP2s = [c for c in set(df[col_name].tolist()) if c is not np.nan]\n",
    "PP2s"
   ]
  },
  {
   "cell_type": "markdown",
   "metadata": {},
   "source": [
    "#### 11.2. Plot the number and the 'age at diagnosis' for each category"
   ]
  },
  {
   "cell_type": "code",
   "execution_count": 59,
   "metadata": {
    "scrolled": false
   },
   "outputs": [
    {
     "data": {
      "image/png": "[encoded data removed]",
      "text/plain": [
       "<Figure size 432x216 with 2 Axes>"
      ]
     },
     "metadata": {
      "needs_background": "light"
     },
     "output_type": "display_data"
    }
   ],
   "source": [
    "plot_number_and_age(df,col_name,PP2s,(6,3))"
   ]
  },
  {
   "cell_type": "markdown",
   "metadata": {},
   "source": [
    "#### 11.3. Calculate the significance of 'age at diagnosis' difference"
   ]
  },
  {
   "cell_type": "code",
   "execution_count": 60,
   "metadata": {
    "scrolled": true
   },
   "outputs": [
    {
     "name": "stdout",
     "output_type": "stream",
     "text": [
      "* The distributions of age of onset of all samples are NOT equal (p=5.0e-03)\n"
     ]
    }
   ],
   "source": [
    "effect = cal_age_diff(df,col_name,PP2s)\n",
    "\n",
    "if effect:\n",
    "    effect_features['with_effect'].append(col_name)\n",
    "else:\n",
    "    effect_features['no_effect'].append(col_name)"
   ]
  },
  {
   "cell_type": "code",
   "execution_count": 61,
   "metadata": {
    "scrolled": true
   },
   "outputs": [
    {
     "name": "stdout",
     "output_type": "stream",
     "text": [
      "* Group with significant difference (Mann-Whitney test p-value < 0.01):\n",
      "\tP vs B (p = 2.2e-03)\n",
      "\tB vs D (p = 5.3e-04)\n",
      "* Group with no significant difference (Mann-Whitney test p-value >= 0.01):\n",
      "\tP vs D (p = 4.1e-01)\n"
     ]
    }
   ],
   "source": [
    "cal_age_diff_by_group(df,col_name,PP2s)"
   ]
  },
  {
   "cell_type": "markdown",
   "metadata": {},
   "source": [
    "## Conclusion"
   ]
  },
  {
   "cell_type": "markdown",
   "metadata": {},
   "source": [
    "* Categorical variables with effects on age of tumor onset"
   ]
  },
  {
   "cell_type": "code",
   "execution_count": 62,
   "metadata": {},
   "outputs": [
    {
     "data": {
      "text/plain": [
       "['Short_topo_combined',\n",
       " 'Residue_function',\n",
       " 'Population',\n",
       " 'Region',\n",
       " 'DNEclass',\n",
       " 'AGVGDClass',\n",
       " 'SIFTClass',\n",
       " 'Polyphen2']"
      ]
     },
     "execution_count": 62,
     "metadata": {},
     "output_type": "execute_result"
    }
   ],
   "source": [
    "effect_features['with_effect']"
   ]
  },
  {
   "cell_type": "markdown",
   "metadata": {},
   "source": [
    "* Categorical variables without effects on age of tumor onset"
   ]
  },
  {
   "cell_type": "code",
   "execution_count": 63,
   "metadata": {},
   "outputs": [
    {
     "data": {
      "text/plain": [
       "['Sex', 'Effect', 'Domain_function']"
      ]
     },
     "execution_count": 63,
     "metadata": {},
     "output_type": "execute_result"
    }
   ],
   "source": [
    "effect_features['no_effect']"
   ]
  }
 ],
 "metadata": {
  "kernelspec": {
   "display_name": "Python 3",
   "language": "python",
   "name": "python3"
  },
  "language_info": {
   "codemirror_mode": {
    "name": "ipython",
    "version": 3
   },
   "file_extension": ".py",
   "mimetype": "text/x-python",
   "name": "python",
   "nbconvert_exporter": "python",
   "pygments_lexer": "ipython3",
   "version": "3.6.8"
  }
 },
 "nbformat": 4,
 "nbformat_minor": 2
}
