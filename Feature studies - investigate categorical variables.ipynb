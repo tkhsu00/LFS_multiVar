{
 "cells": [
  {
   "cell_type": "code",
   "execution_count": 1,
   "metadata": {},
   "outputs": [],
   "source": [
    "import seaborn as sns\n",
    "import pandas as pd\n",
    "import matplotlib.pyplot as plt\n",
    "import numpy as np\n",
    "from scipy import stats\n",
    "from scipy.stats import mannwhitneyu\n",
    "import itertools\n",
    "\n",
    "%matplotlib inline"
   ]
  },
  {
   "cell_type": "code",
   "execution_count": 2,
   "metadata": {},
   "outputs": [],
   "source": [
    "# Read LFS data (after cleaning)\n",
    "fn = \"LFS_cleaned.tsv\"\n",
    "df = pd.read_csv(fn,sep=\"\\t\")"
   ]
  },
  {
   "cell_type": "code",
   "execution_count": 3,
   "metadata": {},
   "outputs": [],
   "source": [
    "# Function to plot the number and age of onset for different groups for a categorical variable\n",
    "def plot_number_and_age(df,column_name,groups,f_size=(6, 4)):\n",
    "    plt.figure(figsize=f_size)\n",
    "    \n",
    "    # plot number of patients for each group\n",
    "    plt.subplot(2,1,1)\n",
    "    sns.countplot(y=column_name,data=df[df[column_name].isin(groups)])\n",
    "    \n",
    "    # plot age of onset for each group\n",
    "    plt.subplot(2,1,2)\n",
    "    sns.barplot(x= 'Age_at_diagnosis',y=column_name,data=df[df[column_name].isin(groups)])\n",
    "    \n",
    "    plt.tight_layout()"
   ]
  },
  {
   "cell_type": "code",
   "execution_count": 4,
   "metadata": {},
   "outputs": [],
   "source": [
    "# Function to compare the age of onset difference among different groups in a categorical variable\n",
    "def cal_age_diff(df,column_name,groups,p_sig=0.001):\n",
    "    \n",
    "    list_pairs = list(itertools.combinations(groups, 2)) # get all possible pairs\n",
    "    sig, no_sig = [],[] # collect the list of pair with no significant difference\n",
    "    \n",
    "    \n",
    "    for pair in list_pairs:\n",
    "        # apply Mann-Whitney test to compare two groups\n",
    "        _, p = mannwhitneyu(df[df[column_name]==pair[0]]['Age_at_diagnosis'], \n",
    "                            df[df[column_name]==pair[1]]['Age_at_diagnosis'])\n",
    "        if p<p_sig:\n",
    "            sig.append(\" vs \".join(pair)+' (p = {:.1e})'.format(p))\n",
    "        else:\n",
    "            no_sig.append(\" vs \".join(pair)+' (p = {:.1e})'.format(p))\n",
    "    \n",
    "    if len(sig)>0:\n",
    "        print('* Group with significant difference (Mann-Whitney test p-value < {}):'.format(p_sig))\n",
    "        print('\\t'+'\\n\\t'.join(sig))\n",
    "    \n",
    "    if len(no_sig)>0:\n",
    "        print('* Group with no significant difference (Mann-Whitney test p-value >= {}):'.format(p_sig))\n",
    "        print('\\t'+'\\n\\t'.join(no_sig))"
   ]
  },
  {
   "cell_type": "markdown",
   "metadata": {},
   "source": [
    "## The effect of single feature"
   ]
  },
  {
   "cell_type": "markdown",
   "metadata": {},
   "source": [
    "### 1. Gender"
   ]
  },
  {
   "cell_type": "markdown",
   "metadata": {},
   "source": [
    "#### 1.1. Collect the list of category for selected feature "
   ]
  },
  {
   "cell_type": "code",
   "execution_count": 5,
   "metadata": {},
   "outputs": [
    {
     "data": {
      "text/plain": [
       "F    1277\n",
       "M     777\n",
       "Name: Sex, dtype: int64"
      ]
     },
     "execution_count": 5,
     "metadata": {},
     "output_type": "execute_result"
    }
   ],
   "source": [
    "# Check the number of each category\n",
    "df['Sex'].value_counts()"
   ]
  },
  {
   "cell_type": "code",
   "execution_count": 6,
   "metadata": {},
   "outputs": [
    {
     "data": {
      "text/plain": [
       "['M', 'F']"
      ]
     },
     "execution_count": 6,
     "metadata": {},
     "output_type": "execute_result"
    }
   ],
   "source": [
    "# Create the list of catagories\n",
    "gender_types = [x for x in set(df['Sex'].tolist()) if x is not np.nan]\n",
    "gender_types"
   ]
  },
  {
   "cell_type": "markdown",
   "metadata": {},
   "source": [
    "#### 1.2. Plot the number and the 'age at diagnosis' for each category"
   ]
  },
  {
   "cell_type": "code",
   "execution_count": 7,
   "metadata": {
    "scrolled": false
   },
   "outputs": [
    {
     "data": {
      "image/png": "[encoded data removed]",
      "text/plain": [
       "<Figure size 432x288 with 2 Axes>"
      ]
     },
     "metadata": {
      "needs_background": "light"
     },
     "output_type": "display_data"
    }
   ],
   "source": [
    "plot_number_and_age(df,'Sex',gender_types,(6,4))"
   ]
  },
  {
   "cell_type": "markdown",
   "metadata": {},
   "source": [
    "#### 1.3. Calculate the significance of 'age at diagnosis' difference with Mann-Whitney test "
   ]
  },
  {
   "cell_type": "code",
   "execution_count": 8,
   "metadata": {
    "scrolled": true
   },
   "outputs": [
    {
     "name": "stdout",
     "output_type": "stream",
     "text": [
      "* Group with no significant difference (Mann-Whitney test p-value >= 0.001):\n",
      "\tM vs F (p = 4.8e-02)\n"
     ]
    }
   ],
   "source": [
    "cal_age_diff(df,'Sex',gender_types)"
   ]
  },
  {
   "cell_type": "markdown",
   "metadata": {},
   "source": [
    "### 2. Tumor sites"
   ]
  },
  {
   "cell_type": "markdown",
   "metadata": {},
   "source": [
    "#### 2.1. Collect the list of category for selected feature "
   ]
  },
  {
   "cell_type": "code",
   "execution_count": 9,
   "metadata": {},
   "outputs": [
    {
     "data": {
      "text/plain": [
       "BREAST                            587\n",
       "BRAIN                             317\n",
       "SOFT TISSUES                      225\n",
       "ADRENAL GLAND                     205\n",
       "BONES (other)                     131\n",
       "STOMACH                            74\n",
       "HEMATOP. SYSTEM                    73\n",
       "LUNG                               72\n",
       "UNKNOWN SITE                       71\n",
       "COLON                              40\n",
       "PROSTATE                           34\n",
       "OVARY                              27\n",
       "COLORECTUM, NOS                    26\n",
       "LIVER                              26\n",
       "PANCREAS                           24\n",
       "UTERUS                             19\n",
       "SKIN                               19\n",
       "LYMPH NODES                        17\n",
       "BONES (limbs)                      17\n",
       "KIDNEY                             16\n",
       "TESTIS                             15\n",
       "ESOPHAGUS                          11\n",
       "NERVES                              9\n",
       "THYROID                             9\n",
       "CERVIX UTERI                        8\n",
       "PERITONEUM                          7\n",
       "BLADDER                             7\n",
       "OTHER SITES                         7\n",
       "CORPUS UTERI                        6\n",
       "RECTUM                              5\n",
       "                                 ... \n",
       "PLACENTA                            1\n",
       "KIDNEY;NERVES                       1\n",
       "ADRENAL GLAND;HEART/MED/PLEURA      1\n",
       "SOFT TISSUES;UNKNOWN SITE           1\n",
       "NERVES;SOFT TISSUES                 1\n",
       "BONES (limbs);BREAST                1\n",
       "BREAST;UTERUS                       1\n",
       "BONES (limbs);LUNG                  1\n",
       "ADRENAL GLAND;NERVES                1\n",
       "BREAST;UNKNOWN SITE                 1\n",
       "BONES (other);SOFT TISSUES          1\n",
       "BREAST;HEART/MED/PLEURA             1\n",
       "BREAST;COLON                        1\n",
       "OTHER DIGESTIVE ORG.                1\n",
       "COLON;SKIN                          1\n",
       "SMALL INTESTINE                     1\n",
       "URETER                              1\n",
       "RECTUM;UNKNOWN SITE                 1\n",
       "BREAST;SKIN                         1\n",
       "BREAST;HEMATOP. SYSTEM              1\n",
       "GALLBLADDER                         1\n",
       "OVARY;SOFT TISSUES                  1\n",
       "NERVES;OVARY                        1\n",
       "ESOPHAGUS;OROPHARYNX                1\n",
       "ADRENAL GLAND;BREAST                1\n",
       "ADRENAL GLAND;SOFT TISSUES          1\n",
       "BREAST;STOMACH                      1\n",
       "BRAIN;BREAST                        1\n",
       "OTHER MALE GEN. ORG.                1\n",
       "BONES (other);PROSTATE              1\n",
       "Name: Short_topo_combined, Length: 87, dtype: int64"
      ]
     },
     "execution_count": 9,
     "metadata": {},
     "output_type": "execute_result"
    }
   ],
   "source": [
    "# Check the number of each category\n",
    "df['Short_topo_combined'].value_counts()"
   ]
  },
  {
   "cell_type": "markdown",
   "metadata": {},
   "source": [
    "#### Too many catagories, simplify tumor sites by classifying the least common sites as 'Others'"
   ]
  },
  {
   "cell_type": "code",
   "execution_count": 10,
   "metadata": {},
   "outputs": [],
   "source": [
    "# get the list of top 4 most frequent tumor sites\n",
    "common_tumors = df['Short_topo_combined'].value_counts().index.tolist()[:4]\n",
    "# convert least common tumor sites to \"Others\"\n",
    "df['simplified_tumor'] = df.apply(lambda row: row['Short_topo_combined'] if row['Short_topo_combined'] in common_tumors else 'Others',axis=1)"
   ]
  },
  {
   "cell_type": "code",
   "execution_count": 11,
   "metadata": {},
   "outputs": [
    {
     "data": {
      "text/plain": [
       "Others           858\n",
       "BREAST           587\n",
       "BRAIN            317\n",
       "SOFT TISSUES     225\n",
       "ADRENAL GLAND    205\n",
       "Name: simplified_tumor, dtype: int64"
      ]
     },
     "execution_count": 11,
     "metadata": {},
     "output_type": "execute_result"
    }
   ],
   "source": [
    "# Check the number of each category for updated feature\n",
    "df['simplified_tumor'].value_counts()"
   ]
  },
  {
   "cell_type": "code",
   "execution_count": 12,
   "metadata": {},
   "outputs": [
    {
     "data": {
      "text/plain": [
       "['BRAIN', 'SOFT TISSUES', 'BREAST', 'Others', 'ADRENAL GLAND']"
      ]
     },
     "execution_count": 12,
     "metadata": {},
     "output_type": "execute_result"
    }
   ],
   "source": [
    "# Create the list of catagories\n",
    "cancer_types = [x for x in set(df['simplified_tumor'].tolist()) if x is not np.nan]\n",
    "cancer_types"
   ]
  },
  {
   "cell_type": "markdown",
   "metadata": {},
   "source": [
    "#### 2.2. Plot the number and the 'age at diagnosis' for each category"
   ]
  },
  {
   "cell_type": "code",
   "execution_count": 13,
   "metadata": {
    "scrolled": false
   },
   "outputs": [
    {
     "data": {
      "image/png": "[encoded data removed]",
      "text/plain": [
       "<Figure size 432x432 with 2 Axes>"
      ]
     },
     "metadata": {
      "needs_background": "light"
     },
     "output_type": "display_data"
    }
   ],
   "source": [
    "plot_number_and_age(df,'simplified_tumor',cancer_types,(6,6))"
   ]
  },
  {
   "cell_type": "markdown",
   "metadata": {},
   "source": [
    "#### 2.3. Calculate the significance of 'age at diagnosis' difference with Mann-Whitney test "
   ]
  },
  {
   "cell_type": "code",
   "execution_count": 14,
   "metadata": {
    "scrolled": false
   },
   "outputs": [
    {
     "name": "stdout",
     "output_type": "stream",
     "text": [
      "* Group with significant difference (Mann-Whitney test p-value < 0.001):\n",
      "\tBRAIN vs BREAST (p = 1.0e-54)\n",
      "\tBRAIN vs Others (p = 2.8e-36)\n",
      "\tBRAIN vs ADRENAL GLAND (p = 7.4e-25)\n",
      "\tSOFT TISSUES vs BREAST (p = 4.9e-27)\n",
      "\tSOFT TISSUES vs Others (p = 1.8e-20)\n",
      "\tSOFT TISSUES vs ADRENAL GLAND (p = 1.3e-17)\n",
      "\tBREAST vs ADRENAL GLAND (p = 4.4e-87)\n",
      "\tOthers vs ADRENAL GLAND (p = 2.4e-72)\n",
      "* Group with no significant difference (Mann-Whitney test p-value >= 0.001):\n",
      "\tBRAIN vs SOFT TISSUES (p = 4.7e-01)\n",
      "\tBREAST vs Others (p = 2.6e-02)\n"
     ]
    }
   ],
   "source": [
    "cal_age_diff(df,'simplified_tumor',cancer_types)"
   ]
  },
  {
   "cell_type": "markdown",
   "metadata": {},
   "source": [
    "### 3. Family case"
   ]
  },
  {
   "cell_type": "markdown",
   "metadata": {},
   "source": [
    "#### 3.1. Collect the list of category for selected feature "
   ]
  },
  {
   "cell_type": "code",
   "execution_count": 15,
   "metadata": {},
   "outputs": [
    {
     "data": {
      "text/plain": [
       "proband                743\n",
       "1st degree relative    403\n",
       "2nd degree relative    275\n",
       "3rd degree relative     92\n",
       "other                   44\n",
       "twin                     1\n",
       "Name: FamilyCase_group, dtype: int64"
      ]
     },
     "execution_count": 15,
     "metadata": {},
     "output_type": "execute_result"
    }
   ],
   "source": [
    "# Check the number of each category\n",
    "df['FamilyCase_group'].value_counts()"
   ]
  },
  {
   "cell_type": "code",
   "execution_count": 16,
   "metadata": {},
   "outputs": [
    {
     "data": {
      "text/plain": [
       "['proband',\n",
       " '1st degree relative',\n",
       " '2nd degree relative',\n",
       " '3rd degree relative']"
      ]
     },
     "execution_count": 16,
     "metadata": {},
     "output_type": "execute_result"
    }
   ],
   "source": [
    "# Remove the case catagories with too few patients\n",
    "common_cases = []\n",
    "for case, count in df['FamilyCase_group'].value_counts().iteritems():\n",
    "    if count>50:\n",
    "        common_cases.append(case)\n",
    "common_cases"
   ]
  },
  {
   "cell_type": "markdown",
   "metadata": {},
   "source": [
    "#### 3.2. Plot the number and the 'age at diagnosis' for each category"
   ]
  },
  {
   "cell_type": "code",
   "execution_count": 17,
   "metadata": {
    "scrolled": false
   },
   "outputs": [
    {
     "data": {
      "image/png": "[encoded data removed]",
      "text/plain": [
       "<Figure size 432x288 with 2 Axes>"
      ]
     },
     "metadata": {
      "needs_background": "light"
     },
     "output_type": "display_data"
    }
   ],
   "source": [
    "plot_number_and_age(df,'FamilyCase_group',common_cases,(6,4))"
   ]
  },
  {
   "cell_type": "markdown",
   "metadata": {},
   "source": [
    "#### 3.3. Calculate the significance of 'age at diagnosis' difference with Mann-Whitney test "
   ]
  },
  {
   "cell_type": "code",
   "execution_count": 18,
   "metadata": {
    "scrolled": true
   },
   "outputs": [
    {
     "name": "stdout",
     "output_type": "stream",
     "text": [
      "* Group with significant difference (Mann-Whitney test p-value < 0.001):\n",
      "\tproband vs 1st degree relative (p = 2.1e-22)\n",
      "\tproband vs 2nd degree relative (p = 2.1e-37)\n",
      "\tproband vs 3rd degree relative (p = 1.1e-13)\n",
      "\t1st degree relative vs 2nd degree relative (p = 8.7e-07)\n",
      "* Group with no significant difference (Mann-Whitney test p-value >= 0.001):\n",
      "\t1st degree relative vs 3rd degree relative (p = 5.8e-03)\n",
      "\t2nd degree relative vs 3rd degree relative (p = 2.6e-01)\n"
     ]
    }
   ],
   "source": [
    "cal_age_diff(df,'FamilyCase_group',common_cases)"
   ]
  },
  {
   "cell_type": "markdown",
   "metadata": {},
   "source": [
    "### 4. Mutation types"
   ]
  },
  {
   "cell_type": "markdown",
   "metadata": {},
   "source": [
    "#### 4.1. Collect the list of category for selected feature "
   ]
  },
  {
   "cell_type": "code",
   "execution_count": 19,
   "metadata": {},
   "outputs": [
    {
     "data": {
      "text/plain": [
       "missense     1546\n",
       "splice        207\n",
       "nonsense      184\n",
       "FS            156\n",
       "other          50\n",
       "large del      32\n",
       "silent          7\n",
       "intronic        5\n",
       "Name: Effect, dtype: int64"
      ]
     },
     "execution_count": 19,
     "metadata": {},
     "output_type": "execute_result"
    }
   ],
   "source": [
    "# Check the number of each category\n",
    "df['Effect'].value_counts()"
   ]
  },
  {
   "cell_type": "code",
   "execution_count": 20,
   "metadata": {},
   "outputs": [
    {
     "data": {
      "text/plain": [
       "['missense', 'splice', 'nonsense', 'FS']"
      ]
     },
     "execution_count": 20,
     "metadata": {},
     "output_type": "execute_result"
    }
   ],
   "source": [
    "# Take common mutation type, remove the mutation types with too few patients\n",
    "common_muts = []\n",
    "for mut, count in df['Effect'].value_counts().iteritems():\n",
    "    if count>50:\n",
    "        common_muts.append(mut)\n",
    "common_muts"
   ]
  },
  {
   "cell_type": "markdown",
   "metadata": {},
   "source": [
    "#### 4.2. Plot the number and the 'age at diagnosis' for each category"
   ]
  },
  {
   "cell_type": "code",
   "execution_count": 21,
   "metadata": {
    "scrolled": false
   },
   "outputs": [
    {
     "data": {
      "image/png": "[encoded data removed]",
      "text/plain": [
       "<Figure size 432x288 with 2 Axes>"
      ]
     },
     "metadata": {
      "needs_background": "light"
     },
     "output_type": "display_data"
    }
   ],
   "source": [
    "plot_number_and_age(df,'Effect',common_muts,(6,4))"
   ]
  },
  {
   "cell_type": "markdown",
   "metadata": {},
   "source": [
    "#### 4.3. Calculate the significance of 'age at diagnosis' difference with Mann-Whitney test "
   ]
  },
  {
   "cell_type": "code",
   "execution_count": 22,
   "metadata": {
    "scrolled": true
   },
   "outputs": [
    {
     "name": "stdout",
     "output_type": "stream",
     "text": [
      "* Group with no significant difference (Mann-Whitney test p-value >= 0.001):\n",
      "\tmissense vs splice (p = 2.0e-02)\n",
      "\tmissense vs nonsense (p = 3.5e-01)\n",
      "\tmissense vs FS (p = 9.9e-02)\n",
      "\tsplice vs nonsense (p = 2.0e-02)\n",
      "\tsplice vs FS (p = 2.1e-03)\n",
      "\tnonsense vs FS (p = 1.9e-01)\n"
     ]
    }
   ],
   "source": [
    "cal_age_diff(df,'Effect',common_muts)"
   ]
  },
  {
   "cell_type": "markdown",
   "metadata": {},
   "source": [
    "### 5. Disease class"
   ]
  },
  {
   "cell_type": "markdown",
   "metadata": {},
   "source": [
    "#### 5.1. Collect the list of category for selected feature "
   ]
  },
  {
   "cell_type": "code",
   "execution_count": 23,
   "metadata": {},
   "outputs": [
    {
     "data": {
      "text/plain": [
       "LFS              731\n",
       "LFL              553\n",
       "FH               290\n",
       "TP53_Chompret    209\n",
       "noFH             138\n",
       "Other             61\n",
       "Name: Class, dtype: int64"
      ]
     },
     "execution_count": 23,
     "metadata": {},
     "output_type": "execute_result"
    }
   ],
   "source": [
    "# Check the number of each category\n",
    "df['Class'].value_counts()"
   ]
  },
  {
   "cell_type": "code",
   "execution_count": 24,
   "metadata": {},
   "outputs": [
    {
     "data": {
      "text/plain": [
       "['TP53_Chompret', 'LFS', 'LFL', 'noFH', 'FH', 'Other']"
      ]
     },
     "execution_count": 24,
     "metadata": {},
     "output_type": "execute_result"
    }
   ],
   "source": [
    "# get the list of disease class, remove nan\n",
    "class_types = [c for c in set(df['Class'].tolist()) if c is not np.nan]\n",
    "class_types"
   ]
  },
  {
   "cell_type": "markdown",
   "metadata": {},
   "source": [
    "#### 5.2. Plot the number and the 'age at diagnosis' for each category"
   ]
  },
  {
   "cell_type": "code",
   "execution_count": 25,
   "metadata": {
    "scrolled": false
   },
   "outputs": [
    {
     "data": {
      "image/png": "[encoded data removed]",
      "text/plain": [
       "<Figure size 432x432 with 2 Axes>"
      ]
     },
     "metadata": {
      "needs_background": "light"
     },
     "output_type": "display_data"
    }
   ],
   "source": [
    "plot_number_and_age(df,'Class',class_types,(6,6))"
   ]
  },
  {
   "cell_type": "markdown",
   "metadata": {},
   "source": [
    "#### 5.3. Calculate the significance of 'age at diagnosis' difference with Mann-Whitney test "
   ]
  },
  {
   "cell_type": "code",
   "execution_count": 26,
   "metadata": {
    "scrolled": false
   },
   "outputs": [
    {
     "name": "stdout",
     "output_type": "stream",
     "text": [
      "* Group with significant difference (Mann-Whitney test p-value < 0.001):\n",
      "\tTP53_Chompret vs LFL (p = 5.8e-09)\n",
      "\tTP53_Chompret vs noFH (p = 1.3e-05)\n",
      "\tTP53_Chompret vs FH (p = 5.0e-12)\n",
      "\tTP53_Chompret vs Other (p = 1.1e-05)\n",
      "\tLFS vs LFL (p = 7.4e-12)\n",
      "\tLFS vs noFH (p = 1.4e-09)\n",
      "\tLFS vs FH (p = 2.2e-15)\n",
      "\tLFS vs Other (p = 1.3e-04)\n",
      "\tLFL vs noFH (p = 4.6e-17)\n",
      "\tnoFH vs FH (p = 1.8e-18)\n",
      "\tnoFH vs Other (p = 4.0e-10)\n",
      "* Group with no significant difference (Mann-Whitney test p-value >= 0.001):\n",
      "\tTP53_Chompret vs LFS (p = 5.2e-02)\n",
      "\tLFL vs FH (p = 7.9e-03)\n",
      "\tLFL vs Other (p = 4.3e-01)\n",
      "\tFH vs Other (p = 1.1e-01)\n"
     ]
    }
   ],
   "source": [
    "cal_age_diff(df,'Class',class_types)"
   ]
  },
  {
   "cell_type": "markdown",
   "metadata": {},
   "source": [
    "### 6. Domain function"
   ]
  },
  {
   "cell_type": "markdown",
   "metadata": {},
   "source": [
    "#### 6.1. Collect the list of category for selected feature "
   ]
  },
  {
   "cell_type": "code",
   "execution_count": 27,
   "metadata": {
    "scrolled": true
   },
   "outputs": [
    {
     "data": {
      "text/plain": [
       "DNA binding                 1561\n",
       "Tetramerisation              247\n",
       "Tetramerisation/NES           43\n",
       "SH3-like/Pro-rich             23\n",
       "Regulation                     9\n",
       "Transactivation TAD1/NES       7\n",
       "Transactivation TAD2           7\n",
       "Transactivation TAD1           6\n",
       "Regulation/NLS                 1\n",
       "Name: Domain_function, dtype: int64"
      ]
     },
     "execution_count": 27,
     "metadata": {},
     "output_type": "execute_result"
    }
   ],
   "source": [
    "# Check the number of each category\n",
    "df['Domain_function'].value_counts()"
   ]
  },
  {
   "cell_type": "code",
   "execution_count": 28,
   "metadata": {},
   "outputs": [
    {
     "data": {
      "text/plain": [
       "['DNA binding', 'Tetramerisation', 'Tetramerisation/NES', 'SH3-like/Pro-rich']"
      ]
     },
     "execution_count": 28,
     "metadata": {},
     "output_type": "execute_result"
    }
   ],
   "source": [
    "# Take common mutation type, remove the mutation types with too few patients\n",
    "common_func = []\n",
    "for func, count in df['Domain_function'].value_counts().iteritems():\n",
    "    if count>20:\n",
    "        common_func.append(func)\n",
    "common_func"
   ]
  },
  {
   "cell_type": "markdown",
   "metadata": {},
   "source": [
    "#### 6.2. Plot the number and the 'age at diagnosis' for each category"
   ]
  },
  {
   "cell_type": "code",
   "execution_count": 29,
   "metadata": {
    "scrolled": false
   },
   "outputs": [
    {
     "data": {
      "image/png": "[encoded data removed]",
      "text/plain": [
       "<Figure size 432x432 with 2 Axes>"
      ]
     },
     "metadata": {
      "needs_background": "light"
     },
     "output_type": "display_data"
    }
   ],
   "source": [
    "plot_number_and_age(df,'Domain_function',common_func,(6,6))"
   ]
  },
  {
   "cell_type": "markdown",
   "metadata": {},
   "source": [
    "#### 6.3. Calculate the significance of 'age at diagnosis' difference with Mann-Whitney test "
   ]
  },
  {
   "cell_type": "code",
   "execution_count": 30,
   "metadata": {
    "scrolled": false
   },
   "outputs": [
    {
     "name": "stdout",
     "output_type": "stream",
     "text": [
      "* Group with no significant difference (Mann-Whitney test p-value >= 0.001):\n",
      "\tDNA binding vs Tetramerisation (p = 1.5e-03)\n",
      "\tDNA binding vs Tetramerisation/NES (p = 2.9e-01)\n",
      "\tDNA binding vs SH3-like/Pro-rich (p = 3.9e-01)\n",
      "\tTetramerisation vs Tetramerisation/NES (p = 1.4e-01)\n",
      "\tTetramerisation vs SH3-like/Pro-rich (p = 9.9e-02)\n",
      "\tTetramerisation/NES vs SH3-like/Pro-rich (p = 3.7e-01)\n"
     ]
    }
   ],
   "source": [
    "cal_age_diff(df,'Domain_function',common_func)"
   ]
  },
  {
   "cell_type": "markdown",
   "metadata": {},
   "source": [
    "### 7. Residue function"
   ]
  },
  {
   "cell_type": "markdown",
   "metadata": {},
   "source": [
    "#### 7.1. Collect the list of category for selected feature "
   ]
  },
  {
   "cell_type": "code",
   "execution_count": 31,
   "metadata": {},
   "outputs": [
    {
     "data": {
      "text/plain": [
       "Buried                                         764\n",
       "DNA binding                                    317\n",
       "Tetramerisation/Methylation site               224\n",
       "Partially exposed                              207\n",
       "Exposed                                        147\n",
       "Zn binding                                      43\n",
       "Phosphorylation site                            33\n",
       "S-glutathionylation site                        14\n",
       "Tetramerisation                                 10\n",
       "ADP-ribosylation                                 7\n",
       "Acetylation/Ubiquitination site                  4\n",
       "Ubiquitination site                              3\n",
       "Acetylation site                                 3\n",
       "Methylation site                                 2\n",
       "Acetylation/Methylation/Ubiquitination site      1\n",
       "Name: Residue_function, dtype: int64"
      ]
     },
     "execution_count": 31,
     "metadata": {},
     "output_type": "execute_result"
    }
   ],
   "source": [
    "# Check the number of each category\n",
    "df['Residue_function'].value_counts()"
   ]
  },
  {
   "cell_type": "code",
   "execution_count": 32,
   "metadata": {},
   "outputs": [
    {
     "data": {
      "text/plain": [
       "['Buried',\n",
       " 'DNA binding',\n",
       " 'Tetramerisation/Methylation site',\n",
       " 'Partially exposed',\n",
       " 'Exposed']"
      ]
     },
     "execution_count": 32,
     "metadata": {},
     "output_type": "execute_result"
    }
   ],
   "source": [
    "# Take common mutation type, remove the mutation types with too few patients\n",
    "common_res_func = []\n",
    "for res_func, count in df['Residue_function'].value_counts().iteritems():\n",
    "    if count>50:\n",
    "        common_res_func.append(res_func)\n",
    "common_res_func"
   ]
  },
  {
   "cell_type": "markdown",
   "metadata": {},
   "source": [
    "#### 7.2. Plot the number and the 'age at diagnosis' for each category"
   ]
  },
  {
   "cell_type": "code",
   "execution_count": 33,
   "metadata": {
    "scrolled": false
   },
   "outputs": [
    {
     "data": {
      "image/png": "[encoded data removed]",
      "text/plain": [
       "<Figure size 432x432 with 2 Axes>"
      ]
     },
     "metadata": {
      "needs_background": "light"
     },
     "output_type": "display_data"
    }
   ],
   "source": [
    "plot_number_and_age(df,'Residue_function',common_res_func,(6,6))"
   ]
  },
  {
   "cell_type": "markdown",
   "metadata": {},
   "source": [
    "#### 7.3. Calculate the significance of 'age at diagnosis' difference with Mann-Whitney test "
   ]
  },
  {
   "cell_type": "code",
   "execution_count": 34,
   "metadata": {
    "scrolled": false
   },
   "outputs": [
    {
     "name": "stdout",
     "output_type": "stream",
     "text": [
      "* Group with significant difference (Mann-Whitney test p-value < 0.001):\n",
      "\tBuried vs DNA binding (p = 7.1e-05)\n",
      "\tDNA binding vs Partially exposed (p = 4.6e-04)\n",
      "\tDNA binding vs Exposed (p = 2.4e-07)\n",
      "\tTetramerisation/Methylation site vs Exposed (p = 4.4e-05)\n",
      "* Group with no significant difference (Mann-Whitney test p-value >= 0.001):\n",
      "\tBuried vs Tetramerisation/Methylation site (p = 1.2e-03)\n",
      "\tBuried vs Partially exposed (p = 2.9e-01)\n",
      "\tBuried vs Exposed (p = 4.6e-03)\n",
      "\tDNA binding vs Tetramerisation/Methylation site (p = 2.9e-01)\n",
      "\tTetramerisation/Methylation site vs Partially exposed (p = 7.3e-03)\n",
      "\tPartially exposed vs Exposed (p = 3.9e-02)\n"
     ]
    }
   ],
   "source": [
    "cal_age_diff(df,'Residue_function',common_res_func)"
   ]
  },
  {
   "cell_type": "markdown",
   "metadata": {},
   "source": [
    "### 8. Population"
   ]
  },
  {
   "cell_type": "markdown",
   "metadata": {},
   "source": [
    "#### 8.1. Collect the list of category for selected feature "
   ]
  },
  {
   "cell_type": "code",
   "execution_count": 35,
   "metadata": {},
   "outputs": [
    {
     "data": {
      "text/plain": [
       "Northern America              617\n",
       "Western Europe                406\n",
       "South America                 284\n",
       "Northern Europe               251\n",
       "Southern Europe               134\n",
       "Eastern Asia                  126\n",
       "Australia/New Zealand         118\n",
       "Eastern Europe                 61\n",
       "Western Asia                   59\n",
       "South Eastern Asia             42\n",
       "More developed regions,NOS     29\n",
       "South Central Asia             12\n",
       "Central America                 7\n",
       "Northern Africa                 5\n",
       "Europe, NOS                     1\n",
       "Micronesia                      1\n",
       "Name: Population, dtype: int64"
      ]
     },
     "execution_count": 35,
     "metadata": {},
     "output_type": "execute_result"
    }
   ],
   "source": [
    "# Check the number of each category\n",
    "df['Population'].value_counts()"
   ]
  },
  {
   "cell_type": "code",
   "execution_count": 36,
   "metadata": {},
   "outputs": [
    {
     "data": {
      "text/plain": [
       "['Northern America',\n",
       " 'Western Europe',\n",
       " 'South America',\n",
       " 'Northern Europe',\n",
       " 'Southern Europe',\n",
       " 'Eastern Asia',\n",
       " 'Australia/New Zealand',\n",
       " 'Eastern Europe',\n",
       " 'Western Asia',\n",
       " 'South Eastern Asia']"
      ]
     },
     "execution_count": 36,
     "metadata": {},
     "output_type": "execute_result"
    }
   ],
   "source": [
    "# Take common mutation type, remove the mutation types with too few patients\n",
    "common_pop = []\n",
    "for pop, count in df['Population'].value_counts().iteritems():\n",
    "    if count>40:\n",
    "        common_pop.append(pop)\n",
    "common_pop"
   ]
  },
  {
   "cell_type": "markdown",
   "metadata": {},
   "source": [
    "#### 8.2. Plot the number and the 'age at diagnosis' for each category"
   ]
  },
  {
   "cell_type": "code",
   "execution_count": 37,
   "metadata": {
    "scrolled": false
   },
   "outputs": [
    {
     "data": {
      "image/png": "[encoded data removed]",
      "text/plain": [
       "<Figure size 432x720 with 2 Axes>"
      ]
     },
     "metadata": {
      "needs_background": "light"
     },
     "output_type": "display_data"
    }
   ],
   "source": [
    "plot_number_and_age(df,'Population',common_pop,(6,10))"
   ]
  },
  {
   "cell_type": "code",
   "execution_count": 38,
   "metadata": {
    "scrolled": false
   },
   "outputs": [
    {
     "name": "stdout",
     "output_type": "stream",
     "text": [
      "* Group with significant difference (Mann-Whitney test p-value < 0.001):\n",
      "\tNorthern America vs Australia/New Zealand (p = 4.7e-07)\n",
      "\tNorthern America vs Western Asia (p = 2.1e-06)\n",
      "\tWestern Europe vs Australia/New Zealand (p = 6.5e-04)\n",
      "\tWestern Europe vs Western Asia (p = 2.9e-04)\n",
      "\tSouth America vs Australia/New Zealand (p = 7.6e-05)\n",
      "\tSouth America vs Western Asia (p = 1.4e-04)\n",
      "\tNorthern Europe vs Australia/New Zealand (p = 9.3e-04)\n",
      "\tNorthern Europe vs Western Asia (p = 2.4e-04)\n",
      "\tEastern Asia vs Western Asia (p = 2.6e-04)\n",
      "\tWestern Asia vs South Eastern Asia (p = 4.9e-04)\n",
      "* Group with no significant difference (Mann-Whitney test p-value >= 0.001):\n",
      "\tNorthern America vs Western Europe (p = 7.9e-03)\n",
      "\tNorthern America vs South America (p = 4.1e-01)\n",
      "\tNorthern America vs Northern Europe (p = 9.6e-03)\n",
      "\tNorthern America vs Southern Europe (p = 1.0e-02)\n",
      "\tNorthern America vs Eastern Asia (p = 8.0e-02)\n",
      "\tNorthern America vs Eastern Europe (p = 2.6e-01)\n",
      "\tNorthern America vs South Eastern Asia (p = 1.5e-01)\n",
      "\tWestern Europe vs South America (p = 3.1e-02)\n",
      "\tWestern Europe vs Northern Europe (p = 4.3e-01)\n",
      "\tWestern Europe vs Southern Europe (p = 2.8e-01)\n",
      "\tWestern Europe vs Eastern Asia (p = 3.6e-01)\n",
      "\tWestern Europe vs Eastern Europe (p = 3.1e-01)\n",
      "\tWestern Europe vs South Eastern Asia (p = 4.5e-01)\n",
      "\tSouth America vs Northern Europe (p = 5.4e-02)\n",
      "\tSouth America vs Southern Europe (p = 3.7e-02)\n",
      "\tSouth America vs Eastern Asia (p = 1.2e-01)\n",
      "\tSouth America vs Eastern Europe (p = 3.0e-01)\n",
      "\tSouth America vs South Eastern Asia (p = 3.1e-01)\n",
      "\tNorthern Europe vs Southern Europe (p = 3.2e-01)\n",
      "\tNorthern Europe vs Eastern Asia (p = 3.2e-01)\n",
      "\tNorthern Europe vs Eastern Europe (p = 2.9e-01)\n",
      "\tNorthern Europe vs South Eastern Asia (p = 4.0e-01)\n",
      "\tSouthern Europe vs Eastern Asia (p = 2.1e-01)\n",
      "\tSouthern Europe vs Australia/New Zealand (p = 8.9e-03)\n",
      "\tSouthern Europe vs Eastern Europe (p = 2.2e-01)\n",
      "\tSouthern Europe vs Western Asia (p = 1.6e-03)\n",
      "\tSouthern Europe vs South Eastern Asia (p = 2.5e-01)\n",
      "\tEastern Asia vs Australia/New Zealand (p = 1.1e-03)\n",
      "\tEastern Asia vs Eastern Europe (p = 3.9e-01)\n",
      "\tEastern Asia vs South Eastern Asia (p = 5.0e-01)\n",
      "\tAustralia/New Zealand vs Eastern Europe (p = 5.7e-03)\n",
      "\tAustralia/New Zealand vs Western Asia (p = 1.7e-01)\n",
      "\tAustralia/New Zealand vs South Eastern Asia (p = 5.3e-03)\n",
      "\tEastern Europe vs Western Asia (p = 2.1e-03)\n",
      "\tEastern Europe vs South Eastern Asia (p = 4.8e-01)\n"
     ]
    }
   ],
   "source": [
    "cal_age_diff(df,'Population',common_pop)"
   ]
  },
  {
   "cell_type": "code",
   "execution_count": null,
   "metadata": {},
   "outputs": [],
   "source": []
  }
 ],
 "metadata": {
  "kernelspec": {
   "display_name": "Python 3",
   "language": "python",
   "name": "python3"
  },
  "language_info": {
   "codemirror_mode": {
    "name": "ipython",
    "version": 3
   },
   "file_extension": ".py",
   "mimetype": "text/x-python",
   "name": "python",
   "nbconvert_exporter": "python",
   "pygments_lexer": "ipython3",
   "version": "3.6.8"
  }
 },
 "nbformat": 4,
 "nbformat_minor": 2
}
